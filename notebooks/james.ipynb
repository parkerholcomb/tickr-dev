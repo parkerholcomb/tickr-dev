{
 "cells": [
  {
   "cell_type": "code",
   "execution_count": 30,
   "metadata": {},
   "outputs": [
    {
     "data": {
      "text/html": [
       "<div>\n",
       "<style scoped>\n",
       "    .dataframe tbody tr th:only-of-type {\n",
       "        vertical-align: middle;\n",
       "    }\n",
       "\n",
       "    .dataframe tbody tr th {\n",
       "        vertical-align: top;\n",
       "    }\n",
       "\n",
       "    .dataframe thead th {\n",
       "        text-align: right;\n",
       "    }\n",
       "</style>\n",
       "<table border=\"1\" class=\"dataframe\">\n",
       "  <thead>\n",
       "    <tr style=\"text-align: right;\">\n",
       "      <th></th>\n",
       "      <th>id</th>\n",
       "      <th>eventId</th>\n",
       "      <th>section</th>\n",
       "      <th>sectionId</th>\n",
       "      <th>sectionType</th>\n",
       "      <th>row</th>\n",
       "      <th>seatFrom</th>\n",
       "      <th>seatTo</th>\n",
       "      <th>availableTickets</th>\n",
       "      <th>availableQuantities</th>\n",
       "      <th>ticketClass</th>\n",
       "      <th>ticketClassName</th>\n",
       "      <th>maxQuantity</th>\n",
       "      <th>hasListingNotes</th>\n",
       "      <th>listingNotes</th>\n",
       "      <th>rowId</th>\n",
       "      <th>isPreUploaded</th>\n",
       "      <th>rowContent</th>\n",
       "      <th>rawPrice</th>\n",
       "      <th>price</th>\n",
       "      <th>ticketTypeId</th>\n",
       "      <th>svgMapPngUrl</th>\n",
       "      <th>svgMapPngTcFallbackUrl</th>\n",
       "      <th>listingCurrencyCode</th>\n",
       "      <th>buyerCurrencyCode</th>\n",
       "      <th>qualityRank</th>\n",
       "      <th>vfsUrl</th>\n",
       "      <th>formattedActiveSince</th>\n",
       "      <th>isSeatedTogether</th>\n",
       "      <th>faceValue</th>\n",
       "      <th>faceValueCurrencyCode</th>\n",
       "    </tr>\n",
       "  </thead>\n",
       "  <tbody>\n",
       "    <tr>\n",
       "      <th>5</th>\n",
       "      <td>5367683870</td>\n",
       "      <td>10259990</td>\n",
       "      <td>219</td>\n",
       "      <td>1332366.0</td>\n",
       "      <td>2.0</td>\n",
       "      <td>M</td>\n",
       "      <td>15</td>\n",
       "      <td>16</td>\n",
       "      <td>2</td>\n",
       "      <td>[2]</td>\n",
       "      <td>407</td>\n",
       "      <td>Upper</td>\n",
       "      <td>2</td>\n",
       "      <td>True</td>\n",
       "      <td>[{'listingNoteId': -1, 'listingNoteContentId':...</td>\n",
       "      <td>1245858.0</td>\n",
       "      <td>False</td>\n",
       "      <td>Row</td>\n",
       "      <td>70.00</td>\n",
       "      <td>$70</td>\n",
       "      <td>10</td>\n",
       "      <td>https://img.vggcdn.net/img/vpng/342185/1/4/133...</td>\n",
       "      <td>https://img.vggcdn.net/img/vpng/342185/1/4/tc_...</td>\n",
       "      <td>USD</td>\n",
       "      <td>USD</td>\n",
       "      <td>0</td>\n",
       "      <td></td>\n",
       "      <td>11 days ago</td>\n",
       "      <td>True</td>\n",
       "      <td>71.56</td>\n",
       "      <td>USD</td>\n",
       "    </tr>\n",
       "    <tr>\n",
       "      <th>6</th>\n",
       "      <td>5367683882</td>\n",
       "      <td>10259990</td>\n",
       "      <td>219</td>\n",
       "      <td>1332366.0</td>\n",
       "      <td>2.0</td>\n",
       "      <td>M</td>\n",
       "      <td>7</td>\n",
       "      <td>12</td>\n",
       "      <td>6</td>\n",
       "      <td>[1, 2, 3, 4, 6]</td>\n",
       "      <td>407</td>\n",
       "      <td>Upper</td>\n",
       "      <td>6</td>\n",
       "      <td>True</td>\n",
       "      <td>[{'listingNoteId': -1, 'listingNoteContentId':...</td>\n",
       "      <td>1245858.0</td>\n",
       "      <td>False</td>\n",
       "      <td>Row</td>\n",
       "      <td>70.00</td>\n",
       "      <td>$70</td>\n",
       "      <td>10</td>\n",
       "      <td>https://img.vggcdn.net/img/vpng/342185/1/4/133...</td>\n",
       "      <td>https://img.vggcdn.net/img/vpng/342185/1/4/tc_...</td>\n",
       "      <td>USD</td>\n",
       "      <td>USD</td>\n",
       "      <td>0</td>\n",
       "      <td></td>\n",
       "      <td>11 days ago</td>\n",
       "      <td>True</td>\n",
       "      <td>71.56</td>\n",
       "      <td>USD</td>\n",
       "    </tr>\n",
       "    <tr>\n",
       "      <th>14</th>\n",
       "      <td>5252424756</td>\n",
       "      <td>10259990</td>\n",
       "      <td>219</td>\n",
       "      <td>1332366.0</td>\n",
       "      <td>2.0</td>\n",
       "      <td>J</td>\n",
       "      <td>NaN</td>\n",
       "      <td>NaN</td>\n",
       "      <td>10</td>\n",
       "      <td>[1, 2, 3, 4, 5, 6, 7, 8, 9, 10]</td>\n",
       "      <td>407</td>\n",
       "      <td>Upper</td>\n",
       "      <td>10</td>\n",
       "      <td>True</td>\n",
       "      <td>[{'listingNoteId': -1, 'listingNoteContentId':...</td>\n",
       "      <td>1245858.0</td>\n",
       "      <td>False</td>\n",
       "      <td>Row</td>\n",
       "      <td>86.48</td>\n",
       "      <td>$86</td>\n",
       "      <td>10</td>\n",
       "      <td>https://img.vggcdn.net/img/vpng/342185/1/4/133...</td>\n",
       "      <td>https://img.vggcdn.net/img/vpng/342185/1/4/tc_...</td>\n",
       "      <td>USD</td>\n",
       "      <td>USD</td>\n",
       "      <td>0</td>\n",
       "      <td></td>\n",
       "      <td>58 days ago</td>\n",
       "      <td>True</td>\n",
       "      <td>720.00</td>\n",
       "      <td>USD</td>\n",
       "    </tr>\n",
       "    <tr>\n",
       "      <th>17</th>\n",
       "      <td>5252424566</td>\n",
       "      <td>10259990</td>\n",
       "      <td>206</td>\n",
       "      <td>1332353.0</td>\n",
       "      <td>2.0</td>\n",
       "      <td>J</td>\n",
       "      <td>NaN</td>\n",
       "      <td>NaN</td>\n",
       "      <td>8</td>\n",
       "      <td>[1, 2, 3, 4, 5, 6, 7, 8]</td>\n",
       "      <td>407</td>\n",
       "      <td>Upper</td>\n",
       "      <td>8</td>\n",
       "      <td>True</td>\n",
       "      <td>[{'listingNoteId': -1, 'listingNoteContentId':...</td>\n",
       "      <td>1245845.0</td>\n",
       "      <td>False</td>\n",
       "      <td>Row</td>\n",
       "      <td>88.32</td>\n",
       "      <td>$88</td>\n",
       "      <td>10</td>\n",
       "      <td>https://img.vggcdn.net/img/vpng/342185/1/4/133...</td>\n",
       "      <td>https://img.vggcdn.net/img/vpng/342185/1/4/tc_...</td>\n",
       "      <td>USD</td>\n",
       "      <td>USD</td>\n",
       "      <td>0</td>\n",
       "      <td></td>\n",
       "      <td>58 days ago</td>\n",
       "      <td>True</td>\n",
       "      <td>576.00</td>\n",
       "      <td>USD</td>\n",
       "    </tr>\n",
       "    <tr>\n",
       "      <th>18</th>\n",
       "      <td>5141670181</td>\n",
       "      <td>10259990</td>\n",
       "      <td>206</td>\n",
       "      <td>1332353.0</td>\n",
       "      <td>2.0</td>\n",
       "      <td>R</td>\n",
       "      <td>NaN</td>\n",
       "      <td>NaN</td>\n",
       "      <td>7</td>\n",
       "      <td>[1, 2, 3, 4, 5, 6, 7]</td>\n",
       "      <td>407</td>\n",
       "      <td>Upper</td>\n",
       "      <td>7</td>\n",
       "      <td>True</td>\n",
       "      <td>[{'listingNoteId': -1, 'listingNoteContentId':...</td>\n",
       "      <td>1245845.0</td>\n",
       "      <td>False</td>\n",
       "      <td>Row</td>\n",
       "      <td>90.16</td>\n",
       "      <td>$90</td>\n",
       "      <td>10</td>\n",
       "      <td>https://img.vggcdn.net/img/vpng/342185/1/4/133...</td>\n",
       "      <td>https://img.vggcdn.net/img/vpng/342185/1/4/tc_...</td>\n",
       "      <td>USD</td>\n",
       "      <td>USD</td>\n",
       "      <td>0</td>\n",
       "      <td></td>\n",
       "      <td>100 days ago</td>\n",
       "      <td>True</td>\n",
       "      <td>504.00</td>\n",
       "      <td>USD</td>\n",
       "    </tr>\n",
       "  </tbody>\n",
       "</table>\n",
       "</div>"
      ],
      "text/plain": [
       "            id   eventId section  sectionId  sectionType row seatFrom seatTo  \\\n",
       "5   5367683870  10259990     219  1332366.0          2.0   M       15     16   \n",
       "6   5367683882  10259990     219  1332366.0          2.0   M        7     12   \n",
       "14  5252424756  10259990     219  1332366.0          2.0   J      NaN    NaN   \n",
       "17  5252424566  10259990     206  1332353.0          2.0   J      NaN    NaN   \n",
       "18  5141670181  10259990     206  1332353.0          2.0   R      NaN    NaN   \n",
       "\n",
       "    availableTickets              availableQuantities  ticketClass  \\\n",
       "5                  2                              [2]          407   \n",
       "6                  6                  [1, 2, 3, 4, 6]          407   \n",
       "14                10  [1, 2, 3, 4, 5, 6, 7, 8, 9, 10]          407   \n",
       "17                 8         [1, 2, 3, 4, 5, 6, 7, 8]          407   \n",
       "18                 7            [1, 2, 3, 4, 5, 6, 7]          407   \n",
       "\n",
       "   ticketClassName  maxQuantity  hasListingNotes  \\\n",
       "5            Upper            2             True   \n",
       "6            Upper            6             True   \n",
       "14           Upper           10             True   \n",
       "17           Upper            8             True   \n",
       "18           Upper            7             True   \n",
       "\n",
       "                                         listingNotes      rowId  \\\n",
       "5   [{'listingNoteId': -1, 'listingNoteContentId':...  1245858.0   \n",
       "6   [{'listingNoteId': -1, 'listingNoteContentId':...  1245858.0   \n",
       "14  [{'listingNoteId': -1, 'listingNoteContentId':...  1245858.0   \n",
       "17  [{'listingNoteId': -1, 'listingNoteContentId':...  1245845.0   \n",
       "18  [{'listingNoteId': -1, 'listingNoteContentId':...  1245845.0   \n",
       "\n",
       "    isPreUploaded rowContent  rawPrice price  ticketTypeId  \\\n",
       "5           False        Row     70.00   $70            10   \n",
       "6           False        Row     70.00   $70            10   \n",
       "14          False        Row     86.48   $86            10   \n",
       "17          False        Row     88.32   $88            10   \n",
       "18          False        Row     90.16   $90            10   \n",
       "\n",
       "                                         svgMapPngUrl  \\\n",
       "5   https://img.vggcdn.net/img/vpng/342185/1/4/133...   \n",
       "6   https://img.vggcdn.net/img/vpng/342185/1/4/133...   \n",
       "14  https://img.vggcdn.net/img/vpng/342185/1/4/133...   \n",
       "17  https://img.vggcdn.net/img/vpng/342185/1/4/133...   \n",
       "18  https://img.vggcdn.net/img/vpng/342185/1/4/133...   \n",
       "\n",
       "                               svgMapPngTcFallbackUrl listingCurrencyCode  \\\n",
       "5   https://img.vggcdn.net/img/vpng/342185/1/4/tc_...                 USD   \n",
       "6   https://img.vggcdn.net/img/vpng/342185/1/4/tc_...                 USD   \n",
       "14  https://img.vggcdn.net/img/vpng/342185/1/4/tc_...                 USD   \n",
       "17  https://img.vggcdn.net/img/vpng/342185/1/4/tc_...                 USD   \n",
       "18  https://img.vggcdn.net/img/vpng/342185/1/4/tc_...                 USD   \n",
       "\n",
       "   buyerCurrencyCode  qualityRank vfsUrl formattedActiveSince  \\\n",
       "5                USD            0                 11 days ago   \n",
       "6                USD            0                 11 days ago   \n",
       "14               USD            0                 58 days ago   \n",
       "17               USD            0                 58 days ago   \n",
       "18               USD            0                100 days ago   \n",
       "\n",
       "    isSeatedTogether  faceValue faceValueCurrencyCode  \n",
       "5               True      71.56                   USD  \n",
       "6               True      71.56                   USD  \n",
       "14              True     720.00                   USD  \n",
       "17              True     576.00                   USD  \n",
       "18              True     504.00                   USD  "
      ]
     },
     "metadata": {},
     "output_type": "display_data"
    },
    {
     "data": {
      "application/vnd.plotly.v1+json": {
       "config": {
        "plotlyServerURL": "https://plot.ly"
       },
       "data": [
        {
         "hovertemplate": "ticketClassName=Upper<br>faceValue=%{x}<br>rawPrice=%{y}<extra></extra>",
         "legendgroup": "Upper",
         "marker": {
          "color": "#636efa",
          "symbol": "circle"
         },
         "mode": "markers",
         "name": "Upper",
         "orientation": "v",
         "showlegend": true,
         "type": "scatter",
         "x": [
          71.56,
          71.56,
          720,
          576,
          504,
          504,
          85.56,
          85.56,
          92.91,
          92.91,
          92.92,
          92.92,
          92.92,
          92.92,
          92.92,
          92.93,
          92.94,
          92.94,
          92.95,
          92.96,
          92.98,
          92.99,
          92.99,
          93.03,
          93.17,
          93.21,
          94,
          104,
          960,
          960,
          672,
          768,
          768,
          112.24,
          112.24,
          116.84,
          123.33,
          123.36,
          123.4,
          123.47,
          123.47,
          125,
          126,
          126,
          129
         ],
         "xaxis": "x",
         "y": [
          70,
          70,
          86.48,
          88.32,
          90.16,
          90.16,
          93,
          93,
          102.1,
          102.1,
          102.11,
          102.11,
          102.11,
          102.11,
          102.11,
          102.12,
          102.13,
          102.13,
          102.14,
          102.15,
          102.18,
          102.19,
          102.19,
          102.23,
          102.38,
          102.43,
          104.44,
          115.56,
          115.92,
          118.68,
          119.6,
          120.52,
          120.52,
          122,
          122,
          127,
          135.53,
          135.56,
          135.6,
          135.68,
          135.68,
          138.89,
          140,
          140,
          143.33
         ],
         "yaxis": "y"
        },
        {
         "hovertemplate": "ticketClassName=Lower<br>faceValue=%{x}<br>rawPrice=%{y}<extra></extra>",
         "legendgroup": "Lower",
         "marker": {
          "color": "#EF553B",
          "symbol": "circle"
         },
         "mode": "markers",
         "name": "Lower",
         "orientation": "v",
         "showlegend": true,
         "type": "scatter",
         "x": [
          172.32,
          153.36,
          171.07,
          171.07,
          1232,
          184.92,
          184.92,
          185.84,
          1204,
          155.86,
          1376,
          200.56,
          198.98,
          199.32,
          199.32,
          199.41,
          200.22,
          200,
          200,
          207,
          207,
          207,
          217,
          221.9,
          221.94,
          222,
          222.03,
          222.08,
          222.12,
          222.35,
          222.35,
          224.77,
          223,
          224,
          224,
          227,
          227,
          754.4,
          794.88
         ],
         "xaxis": "x",
         "y": [
          99,
          124.49,
          134.99,
          139.99,
          191.36,
          201,
          201,
          202,
          206.08,
          214.99,
          217.12,
          218,
          218.66,
          219.03,
          219.03,
          219.13,
          220.02,
          222.22,
          222.22,
          225,
          225,
          225,
          241.11,
          243.85,
          243.89,
          243.96,
          243.99,
          244.04,
          244.09,
          244.34,
          244.34,
          247,
          247.78,
          248.89,
          248.89,
          252.22,
          252.22,
          820,
          864
         ],
         "yaxis": "y"
        },
        {
         "hovertemplate": "ticketClassName=Floor<br>faceValue=%{x}<br>rawPrice=%{y}<extra></extra>",
         "legendgroup": "Floor",
         "marker": {
          "color": "#00cc96",
          "symbol": "circle"
         },
         "mode": "markers",
         "name": "Floor",
         "orientation": "v",
         "showlegend": true,
         "type": "scatter",
         "x": [
          613.44,
          155.86,
          155.86,
          155.86,
          153.36,
          40000,
          153.36,
          155.86,
          155.86,
          153.36,
          155.86
         ],
         "xaxis": "x",
         "y": [
          133.2,
          139,
          140,
          149,
          154.95,
          157.5,
          159.95,
          164.95,
          179.95,
          195,
          199
         ],
         "yaxis": "y"
        }
       ],
       "layout": {
        "legend": {
         "title": {
          "text": "ticketClassName"
         },
         "tracegroupgap": 0
        },
        "margin": {
         "t": 60
        },
        "template": {
         "data": {
          "bar": [
           {
            "error_x": {
             "color": "#2a3f5f"
            },
            "error_y": {
             "color": "#2a3f5f"
            },
            "marker": {
             "line": {
              "color": "#E5ECF6",
              "width": 0.5
             },
             "pattern": {
              "fillmode": "overlay",
              "size": 10,
              "solidity": 0.2
             }
            },
            "type": "bar"
           }
          ],
          "barpolar": [
           {
            "marker": {
             "line": {
              "color": "#E5ECF6",
              "width": 0.5
             },
             "pattern": {
              "fillmode": "overlay",
              "size": 10,
              "solidity": 0.2
             }
            },
            "type": "barpolar"
           }
          ],
          "carpet": [
           {
            "aaxis": {
             "endlinecolor": "#2a3f5f",
             "gridcolor": "white",
             "linecolor": "white",
             "minorgridcolor": "white",
             "startlinecolor": "#2a3f5f"
            },
            "baxis": {
             "endlinecolor": "#2a3f5f",
             "gridcolor": "white",
             "linecolor": "white",
             "minorgridcolor": "white",
             "startlinecolor": "#2a3f5f"
            },
            "type": "carpet"
           }
          ],
          "choropleth": [
           {
            "colorbar": {
             "outlinewidth": 0,
             "ticks": ""
            },
            "type": "choropleth"
           }
          ],
          "contour": [
           {
            "colorbar": {
             "outlinewidth": 0,
             "ticks": ""
            },
            "colorscale": [
             [
              0,
              "#0d0887"
             ],
             [
              0.1111111111111111,
              "#46039f"
             ],
             [
              0.2222222222222222,
              "#7201a8"
             ],
             [
              0.3333333333333333,
              "#9c179e"
             ],
             [
              0.4444444444444444,
              "#bd3786"
             ],
             [
              0.5555555555555556,
              "#d8576b"
             ],
             [
              0.6666666666666666,
              "#ed7953"
             ],
             [
              0.7777777777777778,
              "#fb9f3a"
             ],
             [
              0.8888888888888888,
              "#fdca26"
             ],
             [
              1,
              "#f0f921"
             ]
            ],
            "type": "contour"
           }
          ],
          "contourcarpet": [
           {
            "colorbar": {
             "outlinewidth": 0,
             "ticks": ""
            },
            "type": "contourcarpet"
           }
          ],
          "heatmap": [
           {
            "colorbar": {
             "outlinewidth": 0,
             "ticks": ""
            },
            "colorscale": [
             [
              0,
              "#0d0887"
             ],
             [
              0.1111111111111111,
              "#46039f"
             ],
             [
              0.2222222222222222,
              "#7201a8"
             ],
             [
              0.3333333333333333,
              "#9c179e"
             ],
             [
              0.4444444444444444,
              "#bd3786"
             ],
             [
              0.5555555555555556,
              "#d8576b"
             ],
             [
              0.6666666666666666,
              "#ed7953"
             ],
             [
              0.7777777777777778,
              "#fb9f3a"
             ],
             [
              0.8888888888888888,
              "#fdca26"
             ],
             [
              1,
              "#f0f921"
             ]
            ],
            "type": "heatmap"
           }
          ],
          "heatmapgl": [
           {
            "colorbar": {
             "outlinewidth": 0,
             "ticks": ""
            },
            "colorscale": [
             [
              0,
              "#0d0887"
             ],
             [
              0.1111111111111111,
              "#46039f"
             ],
             [
              0.2222222222222222,
              "#7201a8"
             ],
             [
              0.3333333333333333,
              "#9c179e"
             ],
             [
              0.4444444444444444,
              "#bd3786"
             ],
             [
              0.5555555555555556,
              "#d8576b"
             ],
             [
              0.6666666666666666,
              "#ed7953"
             ],
             [
              0.7777777777777778,
              "#fb9f3a"
             ],
             [
              0.8888888888888888,
              "#fdca26"
             ],
             [
              1,
              "#f0f921"
             ]
            ],
            "type": "heatmapgl"
           }
          ],
          "histogram": [
           {
            "marker": {
             "pattern": {
              "fillmode": "overlay",
              "size": 10,
              "solidity": 0.2
             }
            },
            "type": "histogram"
           }
          ],
          "histogram2d": [
           {
            "colorbar": {
             "outlinewidth": 0,
             "ticks": ""
            },
            "colorscale": [
             [
              0,
              "#0d0887"
             ],
             [
              0.1111111111111111,
              "#46039f"
             ],
             [
              0.2222222222222222,
              "#7201a8"
             ],
             [
              0.3333333333333333,
              "#9c179e"
             ],
             [
              0.4444444444444444,
              "#bd3786"
             ],
             [
              0.5555555555555556,
              "#d8576b"
             ],
             [
              0.6666666666666666,
              "#ed7953"
             ],
             [
              0.7777777777777778,
              "#fb9f3a"
             ],
             [
              0.8888888888888888,
              "#fdca26"
             ],
             [
              1,
              "#f0f921"
             ]
            ],
            "type": "histogram2d"
           }
          ],
          "histogram2dcontour": [
           {
            "colorbar": {
             "outlinewidth": 0,
             "ticks": ""
            },
            "colorscale": [
             [
              0,
              "#0d0887"
             ],
             [
              0.1111111111111111,
              "#46039f"
             ],
             [
              0.2222222222222222,
              "#7201a8"
             ],
             [
              0.3333333333333333,
              "#9c179e"
             ],
             [
              0.4444444444444444,
              "#bd3786"
             ],
             [
              0.5555555555555556,
              "#d8576b"
             ],
             [
              0.6666666666666666,
              "#ed7953"
             ],
             [
              0.7777777777777778,
              "#fb9f3a"
             ],
             [
              0.8888888888888888,
              "#fdca26"
             ],
             [
              1,
              "#f0f921"
             ]
            ],
            "type": "histogram2dcontour"
           }
          ],
          "mesh3d": [
           {
            "colorbar": {
             "outlinewidth": 0,
             "ticks": ""
            },
            "type": "mesh3d"
           }
          ],
          "parcoords": [
           {
            "line": {
             "colorbar": {
              "outlinewidth": 0,
              "ticks": ""
             }
            },
            "type": "parcoords"
           }
          ],
          "pie": [
           {
            "automargin": true,
            "type": "pie"
           }
          ],
          "scatter": [
           {
            "marker": {
             "colorbar": {
              "outlinewidth": 0,
              "ticks": ""
             }
            },
            "type": "scatter"
           }
          ],
          "scatter3d": [
           {
            "line": {
             "colorbar": {
              "outlinewidth": 0,
              "ticks": ""
             }
            },
            "marker": {
             "colorbar": {
              "outlinewidth": 0,
              "ticks": ""
             }
            },
            "type": "scatter3d"
           }
          ],
          "scattercarpet": [
           {
            "marker": {
             "colorbar": {
              "outlinewidth": 0,
              "ticks": ""
             }
            },
            "type": "scattercarpet"
           }
          ],
          "scattergeo": [
           {
            "marker": {
             "colorbar": {
              "outlinewidth": 0,
              "ticks": ""
             }
            },
            "type": "scattergeo"
           }
          ],
          "scattergl": [
           {
            "marker": {
             "colorbar": {
              "outlinewidth": 0,
              "ticks": ""
             }
            },
            "type": "scattergl"
           }
          ],
          "scattermapbox": [
           {
            "marker": {
             "colorbar": {
              "outlinewidth": 0,
              "ticks": ""
             }
            },
            "type": "scattermapbox"
           }
          ],
          "scatterpolar": [
           {
            "marker": {
             "colorbar": {
              "outlinewidth": 0,
              "ticks": ""
             }
            },
            "type": "scatterpolar"
           }
          ],
          "scatterpolargl": [
           {
            "marker": {
             "colorbar": {
              "outlinewidth": 0,
              "ticks": ""
             }
            },
            "type": "scatterpolargl"
           }
          ],
          "scatterternary": [
           {
            "marker": {
             "colorbar": {
              "outlinewidth": 0,
              "ticks": ""
             }
            },
            "type": "scatterternary"
           }
          ],
          "surface": [
           {
            "colorbar": {
             "outlinewidth": 0,
             "ticks": ""
            },
            "colorscale": [
             [
              0,
              "#0d0887"
             ],
             [
              0.1111111111111111,
              "#46039f"
             ],
             [
              0.2222222222222222,
              "#7201a8"
             ],
             [
              0.3333333333333333,
              "#9c179e"
             ],
             [
              0.4444444444444444,
              "#bd3786"
             ],
             [
              0.5555555555555556,
              "#d8576b"
             ],
             [
              0.6666666666666666,
              "#ed7953"
             ],
             [
              0.7777777777777778,
              "#fb9f3a"
             ],
             [
              0.8888888888888888,
              "#fdca26"
             ],
             [
              1,
              "#f0f921"
             ]
            ],
            "type": "surface"
           }
          ],
          "table": [
           {
            "cells": {
             "fill": {
              "color": "#EBF0F8"
             },
             "line": {
              "color": "white"
             }
            },
            "header": {
             "fill": {
              "color": "#C8D4E3"
             },
             "line": {
              "color": "white"
             }
            },
            "type": "table"
           }
          ]
         },
         "layout": {
          "annotationdefaults": {
           "arrowcolor": "#2a3f5f",
           "arrowhead": 0,
           "arrowwidth": 1
          },
          "autotypenumbers": "strict",
          "coloraxis": {
           "colorbar": {
            "outlinewidth": 0,
            "ticks": ""
           }
          },
          "colorscale": {
           "diverging": [
            [
             0,
             "#8e0152"
            ],
            [
             0.1,
             "#c51b7d"
            ],
            [
             0.2,
             "#de77ae"
            ],
            [
             0.3,
             "#f1b6da"
            ],
            [
             0.4,
             "#fde0ef"
            ],
            [
             0.5,
             "#f7f7f7"
            ],
            [
             0.6,
             "#e6f5d0"
            ],
            [
             0.7,
             "#b8e186"
            ],
            [
             0.8,
             "#7fbc41"
            ],
            [
             0.9,
             "#4d9221"
            ],
            [
             1,
             "#276419"
            ]
           ],
           "sequential": [
            [
             0,
             "#0d0887"
            ],
            [
             0.1111111111111111,
             "#46039f"
            ],
            [
             0.2222222222222222,
             "#7201a8"
            ],
            [
             0.3333333333333333,
             "#9c179e"
            ],
            [
             0.4444444444444444,
             "#bd3786"
            ],
            [
             0.5555555555555556,
             "#d8576b"
            ],
            [
             0.6666666666666666,
             "#ed7953"
            ],
            [
             0.7777777777777778,
             "#fb9f3a"
            ],
            [
             0.8888888888888888,
             "#fdca26"
            ],
            [
             1,
             "#f0f921"
            ]
           ],
           "sequentialminus": [
            [
             0,
             "#0d0887"
            ],
            [
             0.1111111111111111,
             "#46039f"
            ],
            [
             0.2222222222222222,
             "#7201a8"
            ],
            [
             0.3333333333333333,
             "#9c179e"
            ],
            [
             0.4444444444444444,
             "#bd3786"
            ],
            [
             0.5555555555555556,
             "#d8576b"
            ],
            [
             0.6666666666666666,
             "#ed7953"
            ],
            [
             0.7777777777777778,
             "#fb9f3a"
            ],
            [
             0.8888888888888888,
             "#fdca26"
            ],
            [
             1,
             "#f0f921"
            ]
           ]
          },
          "colorway": [
           "#636efa",
           "#EF553B",
           "#00cc96",
           "#ab63fa",
           "#FFA15A",
           "#19d3f3",
           "#FF6692",
           "#B6E880",
           "#FF97FF",
           "#FECB52"
          ],
          "font": {
           "color": "#2a3f5f"
          },
          "geo": {
           "bgcolor": "white",
           "lakecolor": "white",
           "landcolor": "#E5ECF6",
           "showlakes": true,
           "showland": true,
           "subunitcolor": "white"
          },
          "hoverlabel": {
           "align": "left"
          },
          "hovermode": "closest",
          "mapbox": {
           "style": "light"
          },
          "paper_bgcolor": "white",
          "plot_bgcolor": "#E5ECF6",
          "polar": {
           "angularaxis": {
            "gridcolor": "white",
            "linecolor": "white",
            "ticks": ""
           },
           "bgcolor": "#E5ECF6",
           "radialaxis": {
            "gridcolor": "white",
            "linecolor": "white",
            "ticks": ""
           }
          },
          "scene": {
           "xaxis": {
            "backgroundcolor": "#E5ECF6",
            "gridcolor": "white",
            "gridwidth": 2,
            "linecolor": "white",
            "showbackground": true,
            "ticks": "",
            "zerolinecolor": "white"
           },
           "yaxis": {
            "backgroundcolor": "#E5ECF6",
            "gridcolor": "white",
            "gridwidth": 2,
            "linecolor": "white",
            "showbackground": true,
            "ticks": "",
            "zerolinecolor": "white"
           },
           "zaxis": {
            "backgroundcolor": "#E5ECF6",
            "gridcolor": "white",
            "gridwidth": 2,
            "linecolor": "white",
            "showbackground": true,
            "ticks": "",
            "zerolinecolor": "white"
           }
          },
          "shapedefaults": {
           "line": {
            "color": "#2a3f5f"
           }
          },
          "ternary": {
           "aaxis": {
            "gridcolor": "white",
            "linecolor": "white",
            "ticks": ""
           },
           "baxis": {
            "gridcolor": "white",
            "linecolor": "white",
            "ticks": ""
           },
           "bgcolor": "#E5ECF6",
           "caxis": {
            "gridcolor": "white",
            "linecolor": "white",
            "ticks": ""
           }
          },
          "title": {
           "x": 0.05
          },
          "xaxis": {
           "automargin": true,
           "gridcolor": "white",
           "linecolor": "white",
           "ticks": "",
           "title": {
            "standoff": 15
           },
           "zerolinecolor": "white",
           "zerolinewidth": 2
          },
          "yaxis": {
           "automargin": true,
           "gridcolor": "white",
           "linecolor": "white",
           "ticks": "",
           "title": {
            "standoff": 15
           },
           "zerolinecolor": "white",
           "zerolinewidth": 2
          }
         }
        },
        "xaxis": {
         "anchor": "y",
         "domain": [
          0,
          1
         ],
         "title": {
          "text": "faceValue"
         }
        },
        "yaxis": {
         "anchor": "x",
         "domain": [
          0,
          1
         ],
         "title": {
          "text": "rawPrice"
         }
        }
       }
      }
     },
     "metadata": {},
     "output_type": "display_data"
    }
   ],
   "source": [
    "import pandas as pd\n",
    "import requests\n",
    "\n",
    "cookies = {\n",
    "    'd': '1mZMfATa2gEq6cbPsdDaTrassNaz5IFOnpRgdw2',\n",
    "    'akacd_rls': '3835705975~rv=36~id=507c2ef846a4db20ab214ac3a45fd9fc',\n",
    "    'ak_bmsc': '2F81605598C43522168E9F7FCF4A0BD4~000000000000000000000000000000~YAAQODsvF3zUiwyCAQAANG2XFxDKyowDg7Y96jzPOmm4sXdiywGKGNdVIXdZLA2vtEfp+GdCqxoN7nJSY446u2PH415eM0WkIMY72SKGDFQ3gxZZ+6yqhTHJT0iinp3l4CI+K5HoYDxYEhqA/M2ka4PGIuBEC2puGzUvK1Q8KNo0V1ipZ2J2VHs/D9cclPJt23CeIKTHsMdI0YNE8zlfR559JZxP4c9hvr+Kx2ZqZipR/FEBRp45Val23ZgzRQtzhIzh4I8IGRsYn05ejkbFOtHGYx8dBfHo4a0xtUTtH3rZy39gpmpoetNGP/5Nfw+uM+vbNnvEBAsnyWQ4j7NT2GMsZyE9nassYAKLPc1qwldGD+fTRRS3RfExOfUj+oTkazp5jJZZnABNev8=',\n",
    "    'PCID': 'PSUSGOOCONJAMESD15B5A6117',\n",
    "    'vTrack': '49',\n",
    "    'wsp': 'eyJsIjoyMDU3fQ2',\n",
    "    's': 'T4Neczaqe0a4_BBMN9thLiEb2IKvadoI0',\n",
    "    '_rvt': 'xMkPoTKgIhFBR0FVph8KGgaQaceNdw-BLJhUMS7k7COnKKuUO-7ZdPd59jbtpcOCFfBRfLnGlJ0sx-gpi2-npSsoZRo0VV5KYBKfiFd69QA1',\n",
    "    '_ga': 'GA1.2.898719181.1658253177',\n",
    "    '_gid': 'GA1.2.1368413137.1658253177',\n",
    "    '_gac_UA-266806-12': '1.1658253177.CjwKCAjwrNmWBhA4EiwAHbjEQCgy5N99IADEKIofTNHI748zNSbuJcKUC1ZHJn1yoVJjFsAdhZ2rjhoCoEMQAvD_BwE',\n",
    "    '_gcl_aw': 'GCL.1658253177.CjwKCAjwrNmWBhA4EiwAHbjEQCgy5N99IADEKIofTNHI748zNSbuJcKUC1ZHJn1yoVJjFsAdhZ2rjhoCoEMQAvD_BwE',\n",
    "    '_gcl_au': '1.1.2085686699.1658253177',\n",
    "    'ai_user': 'Oid/uAay+pWBLr69C0HZ1U|2022-07-19T17:52:56.852Z',\n",
    "    '_fbp': 'fb.1.1658253177052.317686073',\n",
    "    'wsso': 'eyJ1bCI6eyJuIjpudWxsLCJzIjpmYWxzZSwibGciOi05Ny43NDMsImx0IjozMC4yNjcsImN0IjoiVVMifSwidXBsIjp7ImN0IjoiVVMiLCJuIjoiQXVzdGluJTJDJTIwVFglMkMlMjBVU0EiLCJsdCI6MzAuMjY3MTUzLCJsZyI6LTk3Ljc0MzA2MDh9LCJkIjp7InR5cGUiOjAsImRhdGVzIjp7ImZyb20iOm51bGwsInRvIjoiOTk5OS0xMi0zMVQyMzo1OTo1OS45OTk5OTk5WiJ9fSwicnYiOnsiYyI6W10sImUiOltdLCJsIjpbXSwicnRjX3UiOm51bGwsInJ0Y19ldCI6IjIwMjItMDctMTlUMTc6NTI6NTYuMjY0NDA1WiJ9LCJwIjpbXSwiaWQiOm51bGx9',\n",
    "    '_clck': 'jvj0lf|1|f3a|0',\n",
    "    'rskxRunCookie': '0',\n",
    "    'rCookie': 'k8yuxejyqa8n4z8p7xs4fl5sh4nzw',\n",
    "    'ftr_ncd': '6',\n",
    "    '_uetsid': '9f1afdc0078b11ed96f6b1d072485d5b',\n",
    "    '_uetvid': '4abb9b10aac411ec9826d9fe676d5b2a',\n",
    "    'lastRskxRun': '1658253258663',\n",
    "    'forterToken': '3976839465ce40918d1dc4709992da52_1658253258488__UDF43_9ck',\n",
    "    'ai_session': '7V1VRe+p8sEAvhXHakOlaX|1658253176856|1658253370219',\n",
    "    'bm_sv': 'C4A7E52221E1538CFB405A7853A1F70E~YAAQJDsvF9ajg/2BAQAAPZGaFxC/mp9DPRPzg1Kt9/PQJj3TzprUxG6Idygu6X4ZIYJ5AgvHI9WG7R8tw4PvVAPcTTZZtbJiVGCQLPA+nvo/qusHPf6yyMP8Hzq16zlxkCN7gOH49URcuVTVl8a24JsbyB1qLSfEUpoVZrKyR9Ij/pPoRgTm3+jD3q+nGb+seemYqSmJFX9vyR01QzlT3cer81VsBAGH/LE5+HLRurONkhQIKGtLDjfjgsvh+PtagIA=~1',\n",
    "    '_clsk': '1ijv8vi|1658253382277|9|1|h.clarity.ms/collect',\n",
    "}\n",
    "\n",
    "headers = {\n",
    "    'authority': 'www.stubhub.com',\n",
    "    'accept': '*/*',\n",
    "    'accept-language': 'en-US,en;q=0.9',\n",
    "    # Already added when you pass json=\n",
    "    # 'content-type': 'application/json',\n",
    "    # Requests sorts cookies= alphabetically\n",
    "    # 'cookie': 'd=1mZMfATa2gEq6cbPsdDaTrassNaz5IFOnpRgdw2; akacd_rls=3835705975~rv=36~id=507c2ef846a4db20ab214ac3a45fd9fc; ak_bmsc=2F81605598C43522168E9F7FCF4A0BD4~000000000000000000000000000000~YAAQODsvF3zUiwyCAQAANG2XFxDKyowDg7Y96jzPOmm4sXdiywGKGNdVIXdZLA2vtEfp+GdCqxoN7nJSY446u2PH415eM0WkIMY72SKGDFQ3gxZZ+6yqhTHJT0iinp3l4CI+K5HoYDxYEhqA/M2ka4PGIuBEC2puGzUvK1Q8KNo0V1ipZ2J2VHs/D9cclPJt23CeIKTHsMdI0YNE8zlfR559JZxP4c9hvr+Kx2ZqZipR/FEBRp45Val23ZgzRQtzhIzh4I8IGRsYn05ejkbFOtHGYx8dBfHo4a0xtUTtH3rZy39gpmpoetNGP/5Nfw+uM+vbNnvEBAsnyWQ4j7NT2GMsZyE9nassYAKLPc1qwldGD+fTRRS3RfExOfUj+oTkazp5jJZZnABNev8=; PCID=PSUSGOOCONJAMESD15B5A6117; vTrack=49; wsp=eyJsIjoyMDU3fQ2; s=T4Neczaqe0a4_BBMN9thLiEb2IKvadoI0; _rvt=xMkPoTKgIhFBR0FVph8KGgaQaceNdw-BLJhUMS7k7COnKKuUO-7ZdPd59jbtpcOCFfBRfLnGlJ0sx-gpi2-npSsoZRo0VV5KYBKfiFd69QA1; _ga=GA1.2.898719181.1658253177; _gid=GA1.2.1368413137.1658253177; _gac_UA-266806-12=1.1658253177.CjwKCAjwrNmWBhA4EiwAHbjEQCgy5N99IADEKIofTNHI748zNSbuJcKUC1ZHJn1yoVJjFsAdhZ2rjhoCoEMQAvD_BwE; _gcl_aw=GCL.1658253177.CjwKCAjwrNmWBhA4EiwAHbjEQCgy5N99IADEKIofTNHI748zNSbuJcKUC1ZHJn1yoVJjFsAdhZ2rjhoCoEMQAvD_BwE; _gcl_au=1.1.2085686699.1658253177; ai_user=Oid/uAay+pWBLr69C0HZ1U|2022-07-19T17:52:56.852Z; _fbp=fb.1.1658253177052.317686073; wsso=eyJ1bCI6eyJuIjpudWxsLCJzIjpmYWxzZSwibGciOi05Ny43NDMsImx0IjozMC4yNjcsImN0IjoiVVMifSwidXBsIjp7ImN0IjoiVVMiLCJuIjoiQXVzdGluJTJDJTIwVFglMkMlMjBVU0EiLCJsdCI6MzAuMjY3MTUzLCJsZyI6LTk3Ljc0MzA2MDh9LCJkIjp7InR5cGUiOjAsImRhdGVzIjp7ImZyb20iOm51bGwsInRvIjoiOTk5OS0xMi0zMVQyMzo1OTo1OS45OTk5OTk5WiJ9fSwicnYiOnsiYyI6W10sImUiOltdLCJsIjpbXSwicnRjX3UiOm51bGwsInJ0Y19ldCI6IjIwMjItMDctMTlUMTc6NTI6NTYuMjY0NDA1WiJ9LCJwIjpbXSwiaWQiOm51bGx9; _clck=jvj0lf|1|f3a|0; rskxRunCookie=0; rCookie=k8yuxejyqa8n4z8p7xs4fl5sh4nzw; ftr_ncd=6; _uetsid=9f1afdc0078b11ed96f6b1d072485d5b; _uetvid=4abb9b10aac411ec9826d9fe676d5b2a; lastRskxRun=1658253258663; forterToken=3976839465ce40918d1dc4709992da52_1658253258488__UDF43_9ck; ai_session=7V1VRe+p8sEAvhXHakOlaX|1658253176856|1658253370219; bm_sv=C4A7E52221E1538CFB405A7853A1F70E~YAAQJDsvF9ajg/2BAQAAPZGaFxC/mp9DPRPzg1Kt9/PQJj3TzprUxG6Idygu6X4ZIYJ5AgvHI9WG7R8tw4PvVAPcTTZZtbJiVGCQLPA+nvo/qusHPf6yyMP8Hzq16zlxkCN7gOH49URcuVTVl8a24JsbyB1qLSfEUpoVZrKyR9Ij/pPoRgTm3+jD3q+nGb+seemYqSmJFX9vyR01QzlT3cer81VsBAGH/LE5+HLRurONkhQIKGtLDjfjgsvh+PtagIA=~1; _clsk=1ijv8vi|1658253382277|9|1|h.clarity.ms/collect',\n",
    "    'origin': 'https://www.stubhub.com',\n",
    "    'referer': 'https://www.stubhub.com/james-taylor-austin-tickets-7-22-2022/event/105237995/?quantity=2&sections=&ticketClasses=&listingId=&listingQty=',\n",
    "    'request-context': 'appId=cid-v1:d2ec73bc-3fa1-4bd1-8c0c-c27c69bb4833',\n",
    "    'request-id': '|019866ff7fac42fa9c37a8c23ff25fcc.961d67a197254615',\n",
    "    'sec-ch-ua': '\".Not/A)Brand\";v=\"99\", \"Google Chrome\";v=\"103\", \"Chromium\";v=\"103\"',\n",
    "    'sec-ch-ua-mobile': '?0',\n",
    "    'sec-ch-ua-platform': '\"macOS\"',\n",
    "    'sec-fetch-dest': 'empty',\n",
    "    'sec-fetch-mode': 'cors',\n",
    "    'sec-fetch-site': 'same-origin',\n",
    "    'traceparent': '00-019866ff7fac42fa9c37a8c23ff25fcc-961d67a197254615-01',\n",
    "    'user-agent': 'Mozilla/5.0 (Macintosh; Intel Mac OS X 10_15_7) AppleWebKit/537.36 (KHTML, like Gecko) Chrome/103.0.0.0 Safari/537.36',\n",
    "}\n",
    "\n",
    "json_data = {\n",
    "    'ShowAllTickets': True,\n",
    "    'HideDuplicateTicketsV2': False,\n",
    "    'Quantity': 2,\n",
    "    'PageVisitId': 'da475eb34dfb461c8adfa0723de97634',\n",
    "    'PageSize': 500,\n",
    "    'CurrentPage': 1,\n",
    "    'SortBy': 'NEWPRICE',\n",
    "    'Sections': '',\n",
    "    'TicketClasses': '',\n",
    "    'ListingNotes': '',\n",
    "    'TicketTypeGroups': '',\n",
    "    'PriceRange': '0,100',\n",
    "    'InstantDelivery': False,\n",
    "    'EstimatedFees': False,\n",
    "    'Method': 'IndexSh',\n",
    "}\n",
    "\n",
    "response = requests.post('https://www.stubhub.com/james-taylor-austin-tickets-7-22-2022/event/105237995/', cookies=cookies, headers=headers, json=json_data)\n",
    "\n",
    "df = pd.DataFrame(response.json()['items'])\n",
    "pd.options.display.max_columns = None\n",
    "\n",
    "\n",
    "df = df.dropna(subset=['faceValue'])\n",
    "df = df[df['faceValue'] > 0]\n",
    "# df = df[df['faceValue'] < 300]\n",
    "display(df.head())\n",
    "dff = df[['ticketClassName','rawPrice','faceValue']].dropna()\n",
    "px.scatter(dff, x='faceValue', y='rawPrice', color='ticketClassName')\n"
   ]
  },
  {
   "cell_type": "code",
   "execution_count": 25,
   "metadata": {},
   "outputs": [
    {
     "data": {
      "application/vnd.plotly.v1+json": {
       "config": {
        "plotlyServerURL": "https://plot.ly"
       },
       "data": [
        {
         "hovertemplate": "ticketClassName=Upper<br>faceValue=%{x}<br>rawPrice=%{y}<extra></extra>",
         "legendgroup": "Upper",
         "marker": {
          "color": "#636efa",
          "symbol": "circle"
         },
         "mode": "markers",
         "name": "Upper",
         "orientation": "v",
         "showlegend": true,
         "type": "scatter",
         "x": [
          71.56,
          71.56,
          85.56,
          85.56,
          92.91,
          92.91,
          92.92,
          92.92,
          92.92,
          92.92,
          92.92,
          92.93,
          92.94,
          92.94,
          92.95,
          92.96,
          92.98,
          92.99,
          92.99,
          93.03,
          93.17,
          93.21,
          94,
          104,
          112.24,
          112.24,
          116.84,
          123.33,
          123.36,
          123.4,
          123.47,
          123.47,
          125,
          126,
          126,
          129
         ],
         "xaxis": "x",
         "y": [
          70,
          70,
          93,
          93,
          102.1,
          102.1,
          102.11,
          102.11,
          102.11,
          102.11,
          102.11,
          102.12,
          102.13,
          102.13,
          102.14,
          102.15,
          102.18,
          102.19,
          102.19,
          102.23,
          102.38,
          102.43,
          104.44,
          115.56,
          122,
          122,
          127,
          135.53,
          135.56,
          135.6,
          135.68,
          135.68,
          138.89,
          140,
          140,
          143.33
         ],
         "yaxis": "y"
        },
        {
         "hovertemplate": "ticketClassName=Lower<br>faceValue=%{x}<br>rawPrice=%{y}<extra></extra>",
         "legendgroup": "Lower",
         "marker": {
          "color": "#EF553B",
          "symbol": "circle"
         },
         "mode": "markers",
         "name": "Lower",
         "orientation": "v",
         "showlegend": true,
         "type": "scatter",
         "x": [
          172.32,
          153.36,
          171.07,
          171.07,
          184.92,
          184.92,
          185.84,
          155.86,
          200.56,
          198.98,
          199.32,
          199.32,
          199.41,
          200.22,
          200,
          200,
          207,
          207,
          217,
          221.9,
          221.94,
          222,
          222.03,
          222.08,
          222.12,
          222.35,
          222.35,
          224.77,
          223,
          224,
          224,
          227,
          227
         ],
         "xaxis": "x",
         "y": [
          99,
          124.49,
          134.99,
          139.99,
          201,
          201,
          202,
          214.99,
          218,
          218.66,
          219.03,
          219.03,
          219.13,
          220.02,
          222.22,
          222.22,
          225,
          225,
          241.11,
          243.85,
          243.89,
          243.96,
          243.99,
          244.04,
          244.09,
          244.34,
          244.34,
          247,
          247.78,
          248.89,
          248.89,
          252.22,
          252.22
         ],
         "yaxis": "y"
        },
        {
         "hovertemplate": "ticketClassName=Floor<br>faceValue=%{x}<br>rawPrice=%{y}<extra></extra>",
         "legendgroup": "Floor",
         "marker": {
          "color": "#00cc96",
          "symbol": "circle"
         },
         "mode": "markers",
         "name": "Floor",
         "orientation": "v",
         "showlegend": true,
         "type": "scatter",
         "x": [
          155.86,
          155.86,
          155.86,
          153.36,
          153.36,
          155.86,
          155.86,
          153.36,
          155.86
         ],
         "xaxis": "x",
         "y": [
          139,
          140,
          149,
          154.95,
          159.95,
          164.95,
          179.95,
          195,
          199
         ],
         "yaxis": "y"
        }
       ],
       "layout": {
        "legend": {
         "title": {
          "text": "ticketClassName"
         },
         "tracegroupgap": 0
        },
        "margin": {
         "t": 60
        },
        "template": {
         "data": {
          "bar": [
           {
            "error_x": {
             "color": "#2a3f5f"
            },
            "error_y": {
             "color": "#2a3f5f"
            },
            "marker": {
             "line": {
              "color": "#E5ECF6",
              "width": 0.5
             },
             "pattern": {
              "fillmode": "overlay",
              "size": 10,
              "solidity": 0.2
             }
            },
            "type": "bar"
           }
          ],
          "barpolar": [
           {
            "marker": {
             "line": {
              "color": "#E5ECF6",
              "width": 0.5
             },
             "pattern": {
              "fillmode": "overlay",
              "size": 10,
              "solidity": 0.2
             }
            },
            "type": "barpolar"
           }
          ],
          "carpet": [
           {
            "aaxis": {
             "endlinecolor": "#2a3f5f",
             "gridcolor": "white",
             "linecolor": "white",
             "minorgridcolor": "white",
             "startlinecolor": "#2a3f5f"
            },
            "baxis": {
             "endlinecolor": "#2a3f5f",
             "gridcolor": "white",
             "linecolor": "white",
             "minorgridcolor": "white",
             "startlinecolor": "#2a3f5f"
            },
            "type": "carpet"
           }
          ],
          "choropleth": [
           {
            "colorbar": {
             "outlinewidth": 0,
             "ticks": ""
            },
            "type": "choropleth"
           }
          ],
          "contour": [
           {
            "colorbar": {
             "outlinewidth": 0,
             "ticks": ""
            },
            "colorscale": [
             [
              0,
              "#0d0887"
             ],
             [
              0.1111111111111111,
              "#46039f"
             ],
             [
              0.2222222222222222,
              "#7201a8"
             ],
             [
              0.3333333333333333,
              "#9c179e"
             ],
             [
              0.4444444444444444,
              "#bd3786"
             ],
             [
              0.5555555555555556,
              "#d8576b"
             ],
             [
              0.6666666666666666,
              "#ed7953"
             ],
             [
              0.7777777777777778,
              "#fb9f3a"
             ],
             [
              0.8888888888888888,
              "#fdca26"
             ],
             [
              1,
              "#f0f921"
             ]
            ],
            "type": "contour"
           }
          ],
          "contourcarpet": [
           {
            "colorbar": {
             "outlinewidth": 0,
             "ticks": ""
            },
            "type": "contourcarpet"
           }
          ],
          "heatmap": [
           {
            "colorbar": {
             "outlinewidth": 0,
             "ticks": ""
            },
            "colorscale": [
             [
              0,
              "#0d0887"
             ],
             [
              0.1111111111111111,
              "#46039f"
             ],
             [
              0.2222222222222222,
              "#7201a8"
             ],
             [
              0.3333333333333333,
              "#9c179e"
             ],
             [
              0.4444444444444444,
              "#bd3786"
             ],
             [
              0.5555555555555556,
              "#d8576b"
             ],
             [
              0.6666666666666666,
              "#ed7953"
             ],
             [
              0.7777777777777778,
              "#fb9f3a"
             ],
             [
              0.8888888888888888,
              "#fdca26"
             ],
             [
              1,
              "#f0f921"
             ]
            ],
            "type": "heatmap"
           }
          ],
          "heatmapgl": [
           {
            "colorbar": {
             "outlinewidth": 0,
             "ticks": ""
            },
            "colorscale": [
             [
              0,
              "#0d0887"
             ],
             [
              0.1111111111111111,
              "#46039f"
             ],
             [
              0.2222222222222222,
              "#7201a8"
             ],
             [
              0.3333333333333333,
              "#9c179e"
             ],
             [
              0.4444444444444444,
              "#bd3786"
             ],
             [
              0.5555555555555556,
              "#d8576b"
             ],
             [
              0.6666666666666666,
              "#ed7953"
             ],
             [
              0.7777777777777778,
              "#fb9f3a"
             ],
             [
              0.8888888888888888,
              "#fdca26"
             ],
             [
              1,
              "#f0f921"
             ]
            ],
            "type": "heatmapgl"
           }
          ],
          "histogram": [
           {
            "marker": {
             "pattern": {
              "fillmode": "overlay",
              "size": 10,
              "solidity": 0.2
             }
            },
            "type": "histogram"
           }
          ],
          "histogram2d": [
           {
            "colorbar": {
             "outlinewidth": 0,
             "ticks": ""
            },
            "colorscale": [
             [
              0,
              "#0d0887"
             ],
             [
              0.1111111111111111,
              "#46039f"
             ],
             [
              0.2222222222222222,
              "#7201a8"
             ],
             [
              0.3333333333333333,
              "#9c179e"
             ],
             [
              0.4444444444444444,
              "#bd3786"
             ],
             [
              0.5555555555555556,
              "#d8576b"
             ],
             [
              0.6666666666666666,
              "#ed7953"
             ],
             [
              0.7777777777777778,
              "#fb9f3a"
             ],
             [
              0.8888888888888888,
              "#fdca26"
             ],
             [
              1,
              "#f0f921"
             ]
            ],
            "type": "histogram2d"
           }
          ],
          "histogram2dcontour": [
           {
            "colorbar": {
             "outlinewidth": 0,
             "ticks": ""
            },
            "colorscale": [
             [
              0,
              "#0d0887"
             ],
             [
              0.1111111111111111,
              "#46039f"
             ],
             [
              0.2222222222222222,
              "#7201a8"
             ],
             [
              0.3333333333333333,
              "#9c179e"
             ],
             [
              0.4444444444444444,
              "#bd3786"
             ],
             [
              0.5555555555555556,
              "#d8576b"
             ],
             [
              0.6666666666666666,
              "#ed7953"
             ],
             [
              0.7777777777777778,
              "#fb9f3a"
             ],
             [
              0.8888888888888888,
              "#fdca26"
             ],
             [
              1,
              "#f0f921"
             ]
            ],
            "type": "histogram2dcontour"
           }
          ],
          "mesh3d": [
           {
            "colorbar": {
             "outlinewidth": 0,
             "ticks": ""
            },
            "type": "mesh3d"
           }
          ],
          "parcoords": [
           {
            "line": {
             "colorbar": {
              "outlinewidth": 0,
              "ticks": ""
             }
            },
            "type": "parcoords"
           }
          ],
          "pie": [
           {
            "automargin": true,
            "type": "pie"
           }
          ],
          "scatter": [
           {
            "marker": {
             "colorbar": {
              "outlinewidth": 0,
              "ticks": ""
             }
            },
            "type": "scatter"
           }
          ],
          "scatter3d": [
           {
            "line": {
             "colorbar": {
              "outlinewidth": 0,
              "ticks": ""
             }
            },
            "marker": {
             "colorbar": {
              "outlinewidth": 0,
              "ticks": ""
             }
            },
            "type": "scatter3d"
           }
          ],
          "scattercarpet": [
           {
            "marker": {
             "colorbar": {
              "outlinewidth": 0,
              "ticks": ""
             }
            },
            "type": "scattercarpet"
           }
          ],
          "scattergeo": [
           {
            "marker": {
             "colorbar": {
              "outlinewidth": 0,
              "ticks": ""
             }
            },
            "type": "scattergeo"
           }
          ],
          "scattergl": [
           {
            "marker": {
             "colorbar": {
              "outlinewidth": 0,
              "ticks": ""
             }
            },
            "type": "scattergl"
           }
          ],
          "scattermapbox": [
           {
            "marker": {
             "colorbar": {
              "outlinewidth": 0,
              "ticks": ""
             }
            },
            "type": "scattermapbox"
           }
          ],
          "scatterpolar": [
           {
            "marker": {
             "colorbar": {
              "outlinewidth": 0,
              "ticks": ""
             }
            },
            "type": "scatterpolar"
           }
          ],
          "scatterpolargl": [
           {
            "marker": {
             "colorbar": {
              "outlinewidth": 0,
              "ticks": ""
             }
            },
            "type": "scatterpolargl"
           }
          ],
          "scatterternary": [
           {
            "marker": {
             "colorbar": {
              "outlinewidth": 0,
              "ticks": ""
             }
            },
            "type": "scatterternary"
           }
          ],
          "surface": [
           {
            "colorbar": {
             "outlinewidth": 0,
             "ticks": ""
            },
            "colorscale": [
             [
              0,
              "#0d0887"
             ],
             [
              0.1111111111111111,
              "#46039f"
             ],
             [
              0.2222222222222222,
              "#7201a8"
             ],
             [
              0.3333333333333333,
              "#9c179e"
             ],
             [
              0.4444444444444444,
              "#bd3786"
             ],
             [
              0.5555555555555556,
              "#d8576b"
             ],
             [
              0.6666666666666666,
              "#ed7953"
             ],
             [
              0.7777777777777778,
              "#fb9f3a"
             ],
             [
              0.8888888888888888,
              "#fdca26"
             ],
             [
              1,
              "#f0f921"
             ]
            ],
            "type": "surface"
           }
          ],
          "table": [
           {
            "cells": {
             "fill": {
              "color": "#EBF0F8"
             },
             "line": {
              "color": "white"
             }
            },
            "header": {
             "fill": {
              "color": "#C8D4E3"
             },
             "line": {
              "color": "white"
             }
            },
            "type": "table"
           }
          ]
         },
         "layout": {
          "annotationdefaults": {
           "arrowcolor": "#2a3f5f",
           "arrowhead": 0,
           "arrowwidth": 1
          },
          "autotypenumbers": "strict",
          "coloraxis": {
           "colorbar": {
            "outlinewidth": 0,
            "ticks": ""
           }
          },
          "colorscale": {
           "diverging": [
            [
             0,
             "#8e0152"
            ],
            [
             0.1,
             "#c51b7d"
            ],
            [
             0.2,
             "#de77ae"
            ],
            [
             0.3,
             "#f1b6da"
            ],
            [
             0.4,
             "#fde0ef"
            ],
            [
             0.5,
             "#f7f7f7"
            ],
            [
             0.6,
             "#e6f5d0"
            ],
            [
             0.7,
             "#b8e186"
            ],
            [
             0.8,
             "#7fbc41"
            ],
            [
             0.9,
             "#4d9221"
            ],
            [
             1,
             "#276419"
            ]
           ],
           "sequential": [
            [
             0,
             "#0d0887"
            ],
            [
             0.1111111111111111,
             "#46039f"
            ],
            [
             0.2222222222222222,
             "#7201a8"
            ],
            [
             0.3333333333333333,
             "#9c179e"
            ],
            [
             0.4444444444444444,
             "#bd3786"
            ],
            [
             0.5555555555555556,
             "#d8576b"
            ],
            [
             0.6666666666666666,
             "#ed7953"
            ],
            [
             0.7777777777777778,
             "#fb9f3a"
            ],
            [
             0.8888888888888888,
             "#fdca26"
            ],
            [
             1,
             "#f0f921"
            ]
           ],
           "sequentialminus": [
            [
             0,
             "#0d0887"
            ],
            [
             0.1111111111111111,
             "#46039f"
            ],
            [
             0.2222222222222222,
             "#7201a8"
            ],
            [
             0.3333333333333333,
             "#9c179e"
            ],
            [
             0.4444444444444444,
             "#bd3786"
            ],
            [
             0.5555555555555556,
             "#d8576b"
            ],
            [
             0.6666666666666666,
             "#ed7953"
            ],
            [
             0.7777777777777778,
             "#fb9f3a"
            ],
            [
             0.8888888888888888,
             "#fdca26"
            ],
            [
             1,
             "#f0f921"
            ]
           ]
          },
          "colorway": [
           "#636efa",
           "#EF553B",
           "#00cc96",
           "#ab63fa",
           "#FFA15A",
           "#19d3f3",
           "#FF6692",
           "#B6E880",
           "#FF97FF",
           "#FECB52"
          ],
          "font": {
           "color": "#2a3f5f"
          },
          "geo": {
           "bgcolor": "white",
           "lakecolor": "white",
           "landcolor": "#E5ECF6",
           "showlakes": true,
           "showland": true,
           "subunitcolor": "white"
          },
          "hoverlabel": {
           "align": "left"
          },
          "hovermode": "closest",
          "mapbox": {
           "style": "light"
          },
          "paper_bgcolor": "white",
          "plot_bgcolor": "#E5ECF6",
          "polar": {
           "angularaxis": {
            "gridcolor": "white",
            "linecolor": "white",
            "ticks": ""
           },
           "bgcolor": "#E5ECF6",
           "radialaxis": {
            "gridcolor": "white",
            "linecolor": "white",
            "ticks": ""
           }
          },
          "scene": {
           "xaxis": {
            "backgroundcolor": "#E5ECF6",
            "gridcolor": "white",
            "gridwidth": 2,
            "linecolor": "white",
            "showbackground": true,
            "ticks": "",
            "zerolinecolor": "white"
           },
           "yaxis": {
            "backgroundcolor": "#E5ECF6",
            "gridcolor": "white",
            "gridwidth": 2,
            "linecolor": "white",
            "showbackground": true,
            "ticks": "",
            "zerolinecolor": "white"
           },
           "zaxis": {
            "backgroundcolor": "#E5ECF6",
            "gridcolor": "white",
            "gridwidth": 2,
            "linecolor": "white",
            "showbackground": true,
            "ticks": "",
            "zerolinecolor": "white"
           }
          },
          "shapedefaults": {
           "line": {
            "color": "#2a3f5f"
           }
          },
          "ternary": {
           "aaxis": {
            "gridcolor": "white",
            "linecolor": "white",
            "ticks": ""
           },
           "baxis": {
            "gridcolor": "white",
            "linecolor": "white",
            "ticks": ""
           },
           "bgcolor": "#E5ECF6",
           "caxis": {
            "gridcolor": "white",
            "linecolor": "white",
            "ticks": ""
           }
          },
          "title": {
           "x": 0.05
          },
          "xaxis": {
           "automargin": true,
           "gridcolor": "white",
           "linecolor": "white",
           "ticks": "",
           "title": {
            "standoff": 15
           },
           "zerolinecolor": "white",
           "zerolinewidth": 2
          },
          "yaxis": {
           "automargin": true,
           "gridcolor": "white",
           "linecolor": "white",
           "ticks": "",
           "title": {
            "standoff": 15
           },
           "zerolinecolor": "white",
           "zerolinewidth": 2
          }
         }
        },
        "xaxis": {
         "anchor": "y",
         "domain": [
          0,
          1
         ],
         "title": {
          "text": "faceValue"
         }
        },
        "yaxis": {
         "anchor": "x",
         "domain": [
          0,
          1
         ],
         "title": {
          "text": "rawPrice"
         }
        }
       }
      }
     },
     "metadata": {},
     "output_type": "display_data"
    }
   ],
   "source": [
    "import plotly.express as px\n",
    "\n"
   ]
  }
 ],
 "metadata": {
  "kernelspec": {
   "display_name": "Python 3.9.7 64-bit",
   "language": "python",
   "name": "python3"
  },
  "language_info": {
   "codemirror_mode": {
    "name": "ipython",
    "version": 3
   },
   "file_extension": ".py",
   "mimetype": "text/x-python",
   "name": "python",
   "nbconvert_exporter": "python",
   "pygments_lexer": "ipython3",
   "version": "3.9.7"
  },
  "orig_nbformat": 4,
  "vscode": {
   "interpreter": {
    "hash": "aee8b7b246df8f9039afb4144a1f6fd8d2ca17a180786b69acc140d282b71a49"
   }
  }
 },
 "nbformat": 4,
 "nbformat_minor": 2
}
