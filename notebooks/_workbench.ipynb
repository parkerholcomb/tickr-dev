{
 "cells": [
  {
   "cell_type": "code",
   "execution_count": 66,
   "metadata": {},
   "outputs": [],
   "source": [
    "import plotly.express as px\n",
    "import pandas as pd\n",
    "pd.options.display.max_columns = None\n",
    "pd.options.display.max_rows = 10\n",
    "\n",
    "from tickr.stubhub import StubHubWrapper as sh\n",
    "from tickr.seatgeek import SeatGeekWrapper as sg"
   ]
  },
  {
   "cell_type": "markdown",
   "metadata": {},
   "source": [
    "## StubHub"
   ]
  },
  {
   "cell_type": "code",
   "execution_count": 67,
   "metadata": {},
   "outputs": [
    {
     "data": {
      "text/html": [
       "<div>\n",
       "<style scoped>\n",
       "    .dataframe tbody tr th:only-of-type {\n",
       "        vertical-align: middle;\n",
       "    }\n",
       "\n",
       "    .dataframe tbody tr th {\n",
       "        vertical-align: top;\n",
       "    }\n",
       "\n",
       "    .dataframe thead th {\n",
       "        text-align: right;\n",
       "    }\n",
       "</style>\n",
       "<table border=\"1\" class=\"dataframe\">\n",
       "  <thead>\n",
       "    <tr style=\"text-align: right;\">\n",
       "      <th></th>\n",
       "      <th>eventId</th>\n",
       "      <th>name</th>\n",
       "      <th>url</th>\n",
       "      <th>dayOfWeek</th>\n",
       "      <th>formattedDate</th>\n",
       "      <th>formattedTime</th>\n",
       "      <th>isTbd</th>\n",
       "      <th>venueName</th>\n",
       "      <th>formattedVenueLocation</th>\n",
       "      <th>countryCode</th>\n",
       "      <th>formattedMinPrice</th>\n",
       "      <th>userDistanceFromVenue</th>\n",
       "      <th>formattedDistanceInMiles</th>\n",
       "      <th>formattedRescheduledFromDate</th>\n",
       "      <th>eventCountdownMessage</th>\n",
       "      <th>hasActiveListings</th>\n",
       "    </tr>\n",
       "  </thead>\n",
       "  <tbody>\n",
       "    <tr>\n",
       "      <th>0</th>\n",
       "      <td>9954892</td>\n",
       "      <td>Kevin Hart</td>\n",
       "      <td>/kevin-hart-austin-tickets-8-7-2022/event/1052...</td>\n",
       "      <td>Sun</td>\n",
       "      <td>Aug 07 2022</td>\n",
       "      <td>7:00 PM</td>\n",
       "      <td>False</td>\n",
       "      <td>Moody Center ATX</td>\n",
       "      <td>Austin, TX, USA</td>\n",
       "      <td>US</td>\n",
       "      <td>$100</td>\n",
       "      <td>1839.843711</td>\n",
       "      <td>1 mi</td>\n",
       "      <td></td>\n",
       "      <td>Next weekend</td>\n",
       "      <td>True</td>\n",
       "    </tr>\n",
       "  </tbody>\n",
       "</table>\n",
       "</div>"
      ],
      "text/plain": [
       "   eventId        name                                                url  \\\n",
       "0  9954892  Kevin Hart  /kevin-hart-austin-tickets-8-7-2022/event/1052...   \n",
       "\n",
       "  dayOfWeek formattedDate formattedTime  isTbd         venueName  \\\n",
       "0       Sun   Aug 07 2022       7:00 PM  False  Moody Center ATX   \n",
       "\n",
       "  formattedVenueLocation countryCode formattedMinPrice  userDistanceFromVenue  \\\n",
       "0        Austin, TX, USA          US              $100            1839.843711   \n",
       "\n",
       "  formattedDistanceInMiles formattedRescheduledFromDate eventCountdownMessage  \\\n",
       "0                     1 mi                                       Next weekend   \n",
       "\n",
       "   hasActiveListings  \n",
       "0               True  "
      ]
     },
     "execution_count": 67,
     "metadata": {},
     "output_type": "execute_result"
    }
   ],
   "source": [
    "events_sh = sh.event_search(phrase=\"kevin hart\")\n",
    "events_sh"
   ]
  },
  {
   "cell_type": "code",
   "execution_count": 48,
   "metadata": {},
   "outputs": [
    {
     "name": "stdout",
     "output_type": "stream",
     "text": [
      "showing 75 of 75 items\n"
     ]
    },
    {
     "data": {
      "text/html": [
       "<div>\n",
       "<style scoped>\n",
       "    .dataframe tbody tr th:only-of-type {\n",
       "        vertical-align: middle;\n",
       "    }\n",
       "\n",
       "    .dataframe tbody tr th {\n",
       "        vertical-align: top;\n",
       "    }\n",
       "\n",
       "    .dataframe thead th {\n",
       "        text-align: right;\n",
       "    }\n",
       "</style>\n",
       "<table border=\"1\" class=\"dataframe\">\n",
       "  <thead>\n",
       "    <tr style=\"text-align: right;\">\n",
       "      <th></th>\n",
       "      <th>id</th>\n",
       "      <th>eventId</th>\n",
       "      <th>section</th>\n",
       "      <th>sectionId</th>\n",
       "      <th>sectionType</th>\n",
       "      <th>row</th>\n",
       "      <th>seatFrom</th>\n",
       "      <th>seatTo</th>\n",
       "      <th>availableTickets</th>\n",
       "      <th>availableQuantities</th>\n",
       "      <th>ticketClass</th>\n",
       "      <th>ticketClassName</th>\n",
       "      <th>maxQuantity</th>\n",
       "      <th>hasListingNotes</th>\n",
       "      <th>listingNotes</th>\n",
       "      <th>rowId</th>\n",
       "      <th>isPreUploaded</th>\n",
       "      <th>rowContent</th>\n",
       "      <th>rawPrice</th>\n",
       "      <th>price</th>\n",
       "      <th>ticketTypeId</th>\n",
       "      <th>svgMapPngUrl</th>\n",
       "      <th>svgMapPngTcFallbackUrl</th>\n",
       "      <th>listingCurrencyCode</th>\n",
       "      <th>buyerCurrencyCode</th>\n",
       "      <th>qualityRank</th>\n",
       "      <th>vfsUrl</th>\n",
       "      <th>formattedActiveSince</th>\n",
       "      <th>isSeatedTogether</th>\n",
       "      <th>faceValue</th>\n",
       "      <th>faceValueCurrencyCode</th>\n",
       "    </tr>\n",
       "  </thead>\n",
       "  <tbody>\n",
       "    <tr>\n",
       "      <th>0</th>\n",
       "      <td>5395286888</td>\n",
       "      <td>9954892</td>\n",
       "      <td>216</td>\n",
       "      <td>1332363</td>\n",
       "      <td>2</td>\n",
       "      <td>L</td>\n",
       "      <td>11</td>\n",
       "      <td>12</td>\n",
       "      <td>2</td>\n",
       "      <td>[2]</td>\n",
       "      <td>407</td>\n",
       "      <td>Upper</td>\n",
       "      <td>2</td>\n",
       "      <td>True</td>\n",
       "      <td>[{'listingNoteId': -1, 'listingNoteContentId':...</td>\n",
       "      <td>1245855</td>\n",
       "      <td>False</td>\n",
       "      <td>Row</td>\n",
       "      <td>111.95</td>\n",
       "      <td>$112</td>\n",
       "      <td>10</td>\n",
       "      <td>https://img.vggcdn.net/img/vpng/342185/1/4/133...</td>\n",
       "      <td>https://img.vggcdn.net/img/vpng/342185/1/4/tc_...</td>\n",
       "      <td>USD</td>\n",
       "      <td>USD</td>\n",
       "      <td>0</td>\n",
       "      <td></td>\n",
       "      <td>3 days ago</td>\n",
       "      <td>True</td>\n",
       "      <td>NaN</td>\n",
       "      <td>NaN</td>\n",
       "    </tr>\n",
       "    <tr>\n",
       "      <th>1</th>\n",
       "      <td>5388550736</td>\n",
       "      <td>9954892</td>\n",
       "      <td>217</td>\n",
       "      <td>1332364</td>\n",
       "      <td>2</td>\n",
       "      <td></td>\n",
       "      <td>NaN</td>\n",
       "      <td>11</td>\n",
       "      <td>2</td>\n",
       "      <td>[2]</td>\n",
       "      <td>407</td>\n",
       "      <td>Upper</td>\n",
       "      <td>2</td>\n",
       "      <td>True</td>\n",
       "      <td>[{'listingNoteId': -1, 'listingNoteContentId':...</td>\n",
       "      <td>1245856</td>\n",
       "      <td>False</td>\n",
       "      <td>Row</td>\n",
       "      <td>114.95</td>\n",
       "      <td>$115</td>\n",
       "      <td>10</td>\n",
       "      <td>https://img.vggcdn.net/img/vpng/342185/1/4/133...</td>\n",
       "      <td>https://img.vggcdn.net/img/vpng/342185/1/4/tc_...</td>\n",
       "      <td>USD</td>\n",
       "      <td>USD</td>\n",
       "      <td>0</td>\n",
       "      <td></td>\n",
       "      <td>7 days ago</td>\n",
       "      <td>True</td>\n",
       "      <td>NaN</td>\n",
       "      <td>NaN</td>\n",
       "    </tr>\n",
       "    <tr>\n",
       "      <th>2</th>\n",
       "      <td>5401100340</td>\n",
       "      <td>9954892</td>\n",
       "      <td>219</td>\n",
       "      <td>1332366</td>\n",
       "      <td>2</td>\n",
       "      <td>R</td>\n",
       "      <td>17</td>\n",
       "      <td>20</td>\n",
       "      <td>4</td>\n",
       "      <td>[2, 4]</td>\n",
       "      <td>407</td>\n",
       "      <td>Upper</td>\n",
       "      <td>4</td>\n",
       "      <td>True</td>\n",
       "      <td>[{'listingNoteId': -1, 'listingNoteContentId':...</td>\n",
       "      <td>1245858</td>\n",
       "      <td>False</td>\n",
       "      <td>Row</td>\n",
       "      <td>114.95</td>\n",
       "      <td>$115</td>\n",
       "      <td>10</td>\n",
       "      <td>https://img.vggcdn.net/img/vpng/342185/1/4/133...</td>\n",
       "      <td>https://img.vggcdn.net/img/vpng/342185/1/4/tc_...</td>\n",
       "      <td>USD</td>\n",
       "      <td>USD</td>\n",
       "      <td>0</td>\n",
       "      <td></td>\n",
       "      <td>5 hours ago</td>\n",
       "      <td>True</td>\n",
       "      <td>NaN</td>\n",
       "      <td>NaN</td>\n",
       "    </tr>\n",
       "    <tr>\n",
       "      <th>3</th>\n",
       "      <td>5398270364</td>\n",
       "      <td>9954892</td>\n",
       "      <td>209</td>\n",
       "      <td>1332356</td>\n",
       "      <td>2</td>\n",
       "      <td>K</td>\n",
       "      <td>10</td>\n",
       "      <td>17</td>\n",
       "      <td>8</td>\n",
       "      <td>[1, 2, 3, 4, 6, 8]</td>\n",
       "      <td>407</td>\n",
       "      <td>Upper</td>\n",
       "      <td>8</td>\n",
       "      <td>True</td>\n",
       "      <td>[{'listingNoteId': -1, 'listingNoteContentId':...</td>\n",
       "      <td>1245848</td>\n",
       "      <td>False</td>\n",
       "      <td>Row</td>\n",
       "      <td>117.55</td>\n",
       "      <td>$118</td>\n",
       "      <td>10</td>\n",
       "      <td>https://img.vggcdn.net/img/vpng/342185/1/4/133...</td>\n",
       "      <td>https://img.vggcdn.net/img/vpng/342185/1/4/tc_...</td>\n",
       "      <td>USD</td>\n",
       "      <td>USD</td>\n",
       "      <td>0</td>\n",
       "      <td></td>\n",
       "      <td>yesterday</td>\n",
       "      <td>True</td>\n",
       "      <td>NaN</td>\n",
       "      <td>NaN</td>\n",
       "    </tr>\n",
       "    <tr>\n",
       "      <th>4</th>\n",
       "      <td>5332178003</td>\n",
       "      <td>9954892</td>\n",
       "      <td>206</td>\n",
       "      <td>1332353</td>\n",
       "      <td>2</td>\n",
       "      <td>L</td>\n",
       "      <td>13</td>\n",
       "      <td>16</td>\n",
       "      <td>4</td>\n",
       "      <td>[2, 4]</td>\n",
       "      <td>407</td>\n",
       "      <td>Upper</td>\n",
       "      <td>4</td>\n",
       "      <td>True</td>\n",
       "      <td>[{'listingNoteId': -1, 'listingNoteContentId':...</td>\n",
       "      <td>1245845</td>\n",
       "      <td>False</td>\n",
       "      <td>Row</td>\n",
       "      <td>117.95</td>\n",
       "      <td>$118</td>\n",
       "      <td>10</td>\n",
       "      <td>https://img.vggcdn.net/img/vpng/342185/1/4/133...</td>\n",
       "      <td>https://img.vggcdn.net/img/vpng/342185/1/4/tc_...</td>\n",
       "      <td>USD</td>\n",
       "      <td>USD</td>\n",
       "      <td>0</td>\n",
       "      <td></td>\n",
       "      <td>35 days ago</td>\n",
       "      <td>True</td>\n",
       "      <td>NaN</td>\n",
       "      <td>NaN</td>\n",
       "    </tr>\n",
       "    <tr>\n",
       "      <th>...</th>\n",
       "      <td>...</td>\n",
       "      <td>...</td>\n",
       "      <td>...</td>\n",
       "      <td>...</td>\n",
       "      <td>...</td>\n",
       "      <td>...</td>\n",
       "      <td>...</td>\n",
       "      <td>...</td>\n",
       "      <td>...</td>\n",
       "      <td>...</td>\n",
       "      <td>...</td>\n",
       "      <td>...</td>\n",
       "      <td>...</td>\n",
       "      <td>...</td>\n",
       "      <td>...</td>\n",
       "      <td>...</td>\n",
       "      <td>...</td>\n",
       "      <td>...</td>\n",
       "      <td>...</td>\n",
       "      <td>...</td>\n",
       "      <td>...</td>\n",
       "      <td>...</td>\n",
       "      <td>...</td>\n",
       "      <td>...</td>\n",
       "      <td>...</td>\n",
       "      <td>...</td>\n",
       "      <td>...</td>\n",
       "      <td>...</td>\n",
       "      <td>...</td>\n",
       "      <td>...</td>\n",
       "      <td>...</td>\n",
       "    </tr>\n",
       "    <tr>\n",
       "      <th>70</th>\n",
       "      <td>5359494246</td>\n",
       "      <td>9954892</td>\n",
       "      <td>5</td>\n",
       "      <td>1333590</td>\n",
       "      <td>2</td>\n",
       "      <td>12</td>\n",
       "      <td>5</td>\n",
       "      <td>6</td>\n",
       "      <td>2</td>\n",
       "      <td>[1, 2]</td>\n",
       "      <td>682</td>\n",
       "      <td>Floor</td>\n",
       "      <td>2</td>\n",
       "      <td>True</td>\n",
       "      <td>[{'listingNoteId': -1, 'listingNoteContentId':...</td>\n",
       "      <td>1247082</td>\n",
       "      <td>False</td>\n",
       "      <td>Row</td>\n",
       "      <td>850.00</td>\n",
       "      <td>$850</td>\n",
       "      <td>10</td>\n",
       "      <td>https://img.vggcdn.net/img/vpng/342185/1/4/133...</td>\n",
       "      <td>https://img.vggcdn.net/img/vpng/342185/1/4/tc_...</td>\n",
       "      <td>USD</td>\n",
       "      <td>USD</td>\n",
       "      <td>0</td>\n",
       "      <td></td>\n",
       "      <td>24 days ago</td>\n",
       "      <td>True</td>\n",
       "      <td>NaN</td>\n",
       "      <td>NaN</td>\n",
       "    </tr>\n",
       "    <tr>\n",
       "      <th>71</th>\n",
       "      <td>5330268244</td>\n",
       "      <td>9954892</td>\n",
       "      <td>4</td>\n",
       "      <td>1333589</td>\n",
       "      <td>2</td>\n",
       "      <td>1</td>\n",
       "      <td>5</td>\n",
       "      <td>8</td>\n",
       "      <td>4</td>\n",
       "      <td>[2, 4]</td>\n",
       "      <td>682</td>\n",
       "      <td>Floor</td>\n",
       "      <td>4</td>\n",
       "      <td>True</td>\n",
       "      <td>[{'listingNoteId': -1, 'listingNoteContentId':...</td>\n",
       "      <td>1247081</td>\n",
       "      <td>False</td>\n",
       "      <td>Row</td>\n",
       "      <td>999.00</td>\n",
       "      <td>$999</td>\n",
       "      <td>10</td>\n",
       "      <td>https://img.vggcdn.net/img/vpng/342185/1/4/133...</td>\n",
       "      <td>https://img.vggcdn.net/img/vpng/342185/1/4/tc_...</td>\n",
       "      <td>USD</td>\n",
       "      <td>USD</td>\n",
       "      <td>0</td>\n",
       "      <td></td>\n",
       "      <td>36 days ago</td>\n",
       "      <td>True</td>\n",
       "      <td>NaN</td>\n",
       "      <td>NaN</td>\n",
       "    </tr>\n",
       "    <tr>\n",
       "      <th>72</th>\n",
       "      <td>1996152308</td>\n",
       "      <td>9954892</td>\n",
       "      <td>4</td>\n",
       "      <td>1333589</td>\n",
       "      <td>2</td>\n",
       "      <td>1</td>\n",
       "      <td>1</td>\n",
       "      <td>4</td>\n",
       "      <td>4</td>\n",
       "      <td>[2, 4]</td>\n",
       "      <td>682</td>\n",
       "      <td>Floor</td>\n",
       "      <td>4</td>\n",
       "      <td>True</td>\n",
       "      <td>[{'listingNoteId': -1, 'listingNoteContentId':...</td>\n",
       "      <td>1247081</td>\n",
       "      <td>False</td>\n",
       "      <td>Row</td>\n",
       "      <td>1000.00</td>\n",
       "      <td>$1,000</td>\n",
       "      <td>10</td>\n",
       "      <td>https://img.vggcdn.net/img/vpng/342185/1/4/133...</td>\n",
       "      <td>https://img.vggcdn.net/img/vpng/342185/1/4/tc_...</td>\n",
       "      <td>USD</td>\n",
       "      <td>USD</td>\n",
       "      <td>0</td>\n",
       "      <td></td>\n",
       "      <td>160 days ago</td>\n",
       "      <td>True</td>\n",
       "      <td>NaN</td>\n",
       "      <td>NaN</td>\n",
       "    </tr>\n",
       "    <tr>\n",
       "      <th>73</th>\n",
       "      <td>5400370063</td>\n",
       "      <td>9954892</td>\n",
       "      <td>2</td>\n",
       "      <td>1333587</td>\n",
       "      <td>2</td>\n",
       "      <td>1</td>\n",
       "      <td>5</td>\n",
       "      <td>12</td>\n",
       "      <td>8</td>\n",
       "      <td>[1, 2, 3, 4, 6, 8]</td>\n",
       "      <td>682</td>\n",
       "      <td>Floor</td>\n",
       "      <td>8</td>\n",
       "      <td>True</td>\n",
       "      <td>[{'listingNoteId': -1, 'listingNoteContentId':...</td>\n",
       "      <td>1247079</td>\n",
       "      <td>False</td>\n",
       "      <td>Row</td>\n",
       "      <td>1299.00</td>\n",
       "      <td>$1,299</td>\n",
       "      <td>10</td>\n",
       "      <td>https://img.vggcdn.net/img/vpng/342185/1/4/133...</td>\n",
       "      <td>https://img.vggcdn.net/img/vpng/342185/1/4/tc_...</td>\n",
       "      <td>USD</td>\n",
       "      <td>USD</td>\n",
       "      <td>0</td>\n",
       "      <td></td>\n",
       "      <td>15 hours ago</td>\n",
       "      <td>True</td>\n",
       "      <td>NaN</td>\n",
       "      <td>NaN</td>\n",
       "    </tr>\n",
       "    <tr>\n",
       "      <th>74</th>\n",
       "      <td>5355378754</td>\n",
       "      <td>9954892</td>\n",
       "      <td>3</td>\n",
       "      <td>1333588</td>\n",
       "      <td>2</td>\n",
       "      <td>1</td>\n",
       "      <td>11</td>\n",
       "      <td>12</td>\n",
       "      <td>2</td>\n",
       "      <td>[2]</td>\n",
       "      <td>682</td>\n",
       "      <td>Floor</td>\n",
       "      <td>2</td>\n",
       "      <td>True</td>\n",
       "      <td>[{'listingNoteId': -1, 'listingNoteContentId':...</td>\n",
       "      <td>1247080</td>\n",
       "      <td>False</td>\n",
       "      <td>Row</td>\n",
       "      <td>1999.00</td>\n",
       "      <td>$1,999</td>\n",
       "      <td>10</td>\n",
       "      <td>https://img.vggcdn.net/img/vpng/342185/1/4/133...</td>\n",
       "      <td>https://img.vggcdn.net/img/vpng/342185/1/4/tc_...</td>\n",
       "      <td>USD</td>\n",
       "      <td>USD</td>\n",
       "      <td>0</td>\n",
       "      <td></td>\n",
       "      <td>26 days ago</td>\n",
       "      <td>True</td>\n",
       "      <td>NaN</td>\n",
       "      <td>NaN</td>\n",
       "    </tr>\n",
       "  </tbody>\n",
       "</table>\n",
       "<p>75 rows × 31 columns</p>\n",
       "</div>"
      ],
      "text/plain": [
       "            id  eventId section  sectionId  sectionType row seatFrom seatTo  \\\n",
       "0   5395286888  9954892     216    1332363            2   L       11     12   \n",
       "1   5388550736  9954892     217    1332364            2          NaN     11   \n",
       "2   5401100340  9954892     219    1332366            2   R       17     20   \n",
       "3   5398270364  9954892     209    1332356            2   K       10     17   \n",
       "4   5332178003  9954892     206    1332353            2   L       13     16   \n",
       "..         ...      ...     ...        ...          ...  ..      ...    ...   \n",
       "70  5359494246  9954892       5    1333590            2  12        5      6   \n",
       "71  5330268244  9954892       4    1333589            2   1        5      8   \n",
       "72  1996152308  9954892       4    1333589            2   1        1      4   \n",
       "73  5400370063  9954892       2    1333587            2   1        5     12   \n",
       "74  5355378754  9954892       3    1333588            2   1       11     12   \n",
       "\n",
       "    availableTickets availableQuantities  ticketClass ticketClassName  \\\n",
       "0                  2                 [2]          407           Upper   \n",
       "1                  2                 [2]          407           Upper   \n",
       "2                  4              [2, 4]          407           Upper   \n",
       "3                  8  [1, 2, 3, 4, 6, 8]          407           Upper   \n",
       "4                  4              [2, 4]          407           Upper   \n",
       "..               ...                 ...          ...             ...   \n",
       "70                 2              [1, 2]          682           Floor   \n",
       "71                 4              [2, 4]          682           Floor   \n",
       "72                 4              [2, 4]          682           Floor   \n",
       "73                 8  [1, 2, 3, 4, 6, 8]          682           Floor   \n",
       "74                 2                 [2]          682           Floor   \n",
       "\n",
       "    maxQuantity  hasListingNotes  \\\n",
       "0             2             True   \n",
       "1             2             True   \n",
       "2             4             True   \n",
       "3             8             True   \n",
       "4             4             True   \n",
       "..          ...              ...   \n",
       "70            2             True   \n",
       "71            4             True   \n",
       "72            4             True   \n",
       "73            8             True   \n",
       "74            2             True   \n",
       "\n",
       "                                         listingNotes    rowId  isPreUploaded  \\\n",
       "0   [{'listingNoteId': -1, 'listingNoteContentId':...  1245855          False   \n",
       "1   [{'listingNoteId': -1, 'listingNoteContentId':...  1245856          False   \n",
       "2   [{'listingNoteId': -1, 'listingNoteContentId':...  1245858          False   \n",
       "3   [{'listingNoteId': -1, 'listingNoteContentId':...  1245848          False   \n",
       "4   [{'listingNoteId': -1, 'listingNoteContentId':...  1245845          False   \n",
       "..                                                ...      ...            ...   \n",
       "70  [{'listingNoteId': -1, 'listingNoteContentId':...  1247082          False   \n",
       "71  [{'listingNoteId': -1, 'listingNoteContentId':...  1247081          False   \n",
       "72  [{'listingNoteId': -1, 'listingNoteContentId':...  1247081          False   \n",
       "73  [{'listingNoteId': -1, 'listingNoteContentId':...  1247079          False   \n",
       "74  [{'listingNoteId': -1, 'listingNoteContentId':...  1247080          False   \n",
       "\n",
       "   rowContent  rawPrice   price  ticketTypeId  \\\n",
       "0         Row    111.95    $112            10   \n",
       "1         Row    114.95    $115            10   \n",
       "2         Row    114.95    $115            10   \n",
       "3         Row    117.55    $118            10   \n",
       "4         Row    117.95    $118            10   \n",
       "..        ...       ...     ...           ...   \n",
       "70        Row    850.00    $850            10   \n",
       "71        Row    999.00    $999            10   \n",
       "72        Row   1000.00  $1,000            10   \n",
       "73        Row   1299.00  $1,299            10   \n",
       "74        Row   1999.00  $1,999            10   \n",
       "\n",
       "                                         svgMapPngUrl  \\\n",
       "0   https://img.vggcdn.net/img/vpng/342185/1/4/133...   \n",
       "1   https://img.vggcdn.net/img/vpng/342185/1/4/133...   \n",
       "2   https://img.vggcdn.net/img/vpng/342185/1/4/133...   \n",
       "3   https://img.vggcdn.net/img/vpng/342185/1/4/133...   \n",
       "4   https://img.vggcdn.net/img/vpng/342185/1/4/133...   \n",
       "..                                                ...   \n",
       "70  https://img.vggcdn.net/img/vpng/342185/1/4/133...   \n",
       "71  https://img.vggcdn.net/img/vpng/342185/1/4/133...   \n",
       "72  https://img.vggcdn.net/img/vpng/342185/1/4/133...   \n",
       "73  https://img.vggcdn.net/img/vpng/342185/1/4/133...   \n",
       "74  https://img.vggcdn.net/img/vpng/342185/1/4/133...   \n",
       "\n",
       "                               svgMapPngTcFallbackUrl listingCurrencyCode  \\\n",
       "0   https://img.vggcdn.net/img/vpng/342185/1/4/tc_...                 USD   \n",
       "1   https://img.vggcdn.net/img/vpng/342185/1/4/tc_...                 USD   \n",
       "2   https://img.vggcdn.net/img/vpng/342185/1/4/tc_...                 USD   \n",
       "3   https://img.vggcdn.net/img/vpng/342185/1/4/tc_...                 USD   \n",
       "4   https://img.vggcdn.net/img/vpng/342185/1/4/tc_...                 USD   \n",
       "..                                                ...                 ...   \n",
       "70  https://img.vggcdn.net/img/vpng/342185/1/4/tc_...                 USD   \n",
       "71  https://img.vggcdn.net/img/vpng/342185/1/4/tc_...                 USD   \n",
       "72  https://img.vggcdn.net/img/vpng/342185/1/4/tc_...                 USD   \n",
       "73  https://img.vggcdn.net/img/vpng/342185/1/4/tc_...                 USD   \n",
       "74  https://img.vggcdn.net/img/vpng/342185/1/4/tc_...                 USD   \n",
       "\n",
       "   buyerCurrencyCode  qualityRank vfsUrl formattedActiveSince  \\\n",
       "0                USD            0                  3 days ago   \n",
       "1                USD            0                  7 days ago   \n",
       "2                USD            0                 5 hours ago   \n",
       "3                USD            0                   yesterday   \n",
       "4                USD            0                 35 days ago   \n",
       "..               ...          ...    ...                  ...   \n",
       "70               USD            0                 24 days ago   \n",
       "71               USD            0                 36 days ago   \n",
       "72               USD            0                160 days ago   \n",
       "73               USD            0                15 hours ago   \n",
       "74               USD            0                 26 days ago   \n",
       "\n",
       "    isSeatedTogether  faceValue faceValueCurrencyCode  \n",
       "0               True        NaN                   NaN  \n",
       "1               True        NaN                   NaN  \n",
       "2               True        NaN                   NaN  \n",
       "3               True        NaN                   NaN  \n",
       "4               True        NaN                   NaN  \n",
       "..               ...        ...                   ...  \n",
       "70              True        NaN                   NaN  \n",
       "71              True        NaN                   NaN  \n",
       "72              True        NaN                   NaN  \n",
       "73              True        NaN                   NaN  \n",
       "74              True        NaN                   NaN  \n",
       "\n",
       "[75 rows x 31 columns]"
      ]
     },
     "execution_count": 48,
     "metadata": {},
     "output_type": "execute_result"
    }
   ],
   "source": [
    "tickets_sh = sh.tickets_search(endpoint = events_sh['url'][0], page_size=100)\n",
    "tickets_sh"
   ]
  },
  {
   "cell_type": "code",
   "execution_count": 49,
   "metadata": {},
   "outputs": [
    {
     "data": {
      "application/vnd.plotly.v1+json": {
       "config": {
        "plotlyServerURL": "https://plot.ly"
       },
       "data": [
        {
         "alignmentgroup": "True",
         "bingroup": "x",
         "hovertemplate": "rawPrice=%{x}<br>count=%{y}<extra></extra>",
         "legendgroup": "",
         "marker": {
          "color": "#636efa",
          "pattern": {
           "shape": ""
          }
         },
         "name": "",
         "offsetgroup": "",
         "orientation": "v",
         "showlegend": false,
         "type": "histogram",
         "x": [
          111.95,
          114.95,
          114.95,
          117.55,
          117.95,
          120.7,
          121.85,
          123.15,
          123.85,
          126.45,
          128.74,
          128.74,
          129.75,
          130,
          132.19,
          135,
          135.64,
          135.64,
          137.5,
          139,
          150,
          163.51,
          165,
          172.42,
          175,
          184.08,
          195,
          195,
          197.6,
          199,
          199.99,
          200,
          203.53,
          209.46,
          213.41,
          214.95,
          217.9,
          219,
          219.35,
          222,
          230.95,
          239,
          242.5,
          244,
          246,
          254.05,
          260,
          282.24,
          300,
          300,
          300,
          306.01,
          306.01,
          314.36,
          315,
          315.65,
          315.65,
          340,
          450,
          450,
          499,
          500,
          500,
          549,
          600,
          600,
          600,
          618.23,
          618.23,
          650,
          850,
          999,
          1000,
          1299,
          1999
         ],
         "xaxis": "x",
         "yaxis": "y"
        }
       ],
       "layout": {
        "barmode": "relative",
        "legend": {
         "tracegroupgap": 0
        },
        "template": {
         "data": {
          "bar": [
           {
            "error_x": {
             "color": "#2a3f5f"
            },
            "error_y": {
             "color": "#2a3f5f"
            },
            "marker": {
             "line": {
              "color": "#E5ECF6",
              "width": 0.5
             },
             "pattern": {
              "fillmode": "overlay",
              "size": 10,
              "solidity": 0.2
             }
            },
            "type": "bar"
           }
          ],
          "barpolar": [
           {
            "marker": {
             "line": {
              "color": "#E5ECF6",
              "width": 0.5
             },
             "pattern": {
              "fillmode": "overlay",
              "size": 10,
              "solidity": 0.2
             }
            },
            "type": "barpolar"
           }
          ],
          "carpet": [
           {
            "aaxis": {
             "endlinecolor": "#2a3f5f",
             "gridcolor": "white",
             "linecolor": "white",
             "minorgridcolor": "white",
             "startlinecolor": "#2a3f5f"
            },
            "baxis": {
             "endlinecolor": "#2a3f5f",
             "gridcolor": "white",
             "linecolor": "white",
             "minorgridcolor": "white",
             "startlinecolor": "#2a3f5f"
            },
            "type": "carpet"
           }
          ],
          "choropleth": [
           {
            "colorbar": {
             "outlinewidth": 0,
             "ticks": ""
            },
            "type": "choropleth"
           }
          ],
          "contour": [
           {
            "colorbar": {
             "outlinewidth": 0,
             "ticks": ""
            },
            "colorscale": [
             [
              0,
              "#0d0887"
             ],
             [
              0.1111111111111111,
              "#46039f"
             ],
             [
              0.2222222222222222,
              "#7201a8"
             ],
             [
              0.3333333333333333,
              "#9c179e"
             ],
             [
              0.4444444444444444,
              "#bd3786"
             ],
             [
              0.5555555555555556,
              "#d8576b"
             ],
             [
              0.6666666666666666,
              "#ed7953"
             ],
             [
              0.7777777777777778,
              "#fb9f3a"
             ],
             [
              0.8888888888888888,
              "#fdca26"
             ],
             [
              1,
              "#f0f921"
             ]
            ],
            "type": "contour"
           }
          ],
          "contourcarpet": [
           {
            "colorbar": {
             "outlinewidth": 0,
             "ticks": ""
            },
            "type": "contourcarpet"
           }
          ],
          "heatmap": [
           {
            "colorbar": {
             "outlinewidth": 0,
             "ticks": ""
            },
            "colorscale": [
             [
              0,
              "#0d0887"
             ],
             [
              0.1111111111111111,
              "#46039f"
             ],
             [
              0.2222222222222222,
              "#7201a8"
             ],
             [
              0.3333333333333333,
              "#9c179e"
             ],
             [
              0.4444444444444444,
              "#bd3786"
             ],
             [
              0.5555555555555556,
              "#d8576b"
             ],
             [
              0.6666666666666666,
              "#ed7953"
             ],
             [
              0.7777777777777778,
              "#fb9f3a"
             ],
             [
              0.8888888888888888,
              "#fdca26"
             ],
             [
              1,
              "#f0f921"
             ]
            ],
            "type": "heatmap"
           }
          ],
          "heatmapgl": [
           {
            "colorbar": {
             "outlinewidth": 0,
             "ticks": ""
            },
            "colorscale": [
             [
              0,
              "#0d0887"
             ],
             [
              0.1111111111111111,
              "#46039f"
             ],
             [
              0.2222222222222222,
              "#7201a8"
             ],
             [
              0.3333333333333333,
              "#9c179e"
             ],
             [
              0.4444444444444444,
              "#bd3786"
             ],
             [
              0.5555555555555556,
              "#d8576b"
             ],
             [
              0.6666666666666666,
              "#ed7953"
             ],
             [
              0.7777777777777778,
              "#fb9f3a"
             ],
             [
              0.8888888888888888,
              "#fdca26"
             ],
             [
              1,
              "#f0f921"
             ]
            ],
            "type": "heatmapgl"
           }
          ],
          "histogram": [
           {
            "marker": {
             "pattern": {
              "fillmode": "overlay",
              "size": 10,
              "solidity": 0.2
             }
            },
            "type": "histogram"
           }
          ],
          "histogram2d": [
           {
            "colorbar": {
             "outlinewidth": 0,
             "ticks": ""
            },
            "colorscale": [
             [
              0,
              "#0d0887"
             ],
             [
              0.1111111111111111,
              "#46039f"
             ],
             [
              0.2222222222222222,
              "#7201a8"
             ],
             [
              0.3333333333333333,
              "#9c179e"
             ],
             [
              0.4444444444444444,
              "#bd3786"
             ],
             [
              0.5555555555555556,
              "#d8576b"
             ],
             [
              0.6666666666666666,
              "#ed7953"
             ],
             [
              0.7777777777777778,
              "#fb9f3a"
             ],
             [
              0.8888888888888888,
              "#fdca26"
             ],
             [
              1,
              "#f0f921"
             ]
            ],
            "type": "histogram2d"
           }
          ],
          "histogram2dcontour": [
           {
            "colorbar": {
             "outlinewidth": 0,
             "ticks": ""
            },
            "colorscale": [
             [
              0,
              "#0d0887"
             ],
             [
              0.1111111111111111,
              "#46039f"
             ],
             [
              0.2222222222222222,
              "#7201a8"
             ],
             [
              0.3333333333333333,
              "#9c179e"
             ],
             [
              0.4444444444444444,
              "#bd3786"
             ],
             [
              0.5555555555555556,
              "#d8576b"
             ],
             [
              0.6666666666666666,
              "#ed7953"
             ],
             [
              0.7777777777777778,
              "#fb9f3a"
             ],
             [
              0.8888888888888888,
              "#fdca26"
             ],
             [
              1,
              "#f0f921"
             ]
            ],
            "type": "histogram2dcontour"
           }
          ],
          "mesh3d": [
           {
            "colorbar": {
             "outlinewidth": 0,
             "ticks": ""
            },
            "type": "mesh3d"
           }
          ],
          "parcoords": [
           {
            "line": {
             "colorbar": {
              "outlinewidth": 0,
              "ticks": ""
             }
            },
            "type": "parcoords"
           }
          ],
          "pie": [
           {
            "automargin": true,
            "type": "pie"
           }
          ],
          "scatter": [
           {
            "fillpattern": {
             "fillmode": "overlay",
             "size": 10,
             "solidity": 0.2
            },
            "type": "scatter"
           }
          ],
          "scatter3d": [
           {
            "line": {
             "colorbar": {
              "outlinewidth": 0,
              "ticks": ""
             }
            },
            "marker": {
             "colorbar": {
              "outlinewidth": 0,
              "ticks": ""
             }
            },
            "type": "scatter3d"
           }
          ],
          "scattercarpet": [
           {
            "marker": {
             "colorbar": {
              "outlinewidth": 0,
              "ticks": ""
             }
            },
            "type": "scattercarpet"
           }
          ],
          "scattergeo": [
           {
            "marker": {
             "colorbar": {
              "outlinewidth": 0,
              "ticks": ""
             }
            },
            "type": "scattergeo"
           }
          ],
          "scattergl": [
           {
            "marker": {
             "colorbar": {
              "outlinewidth": 0,
              "ticks": ""
             }
            },
            "type": "scattergl"
           }
          ],
          "scattermapbox": [
           {
            "marker": {
             "colorbar": {
              "outlinewidth": 0,
              "ticks": ""
             }
            },
            "type": "scattermapbox"
           }
          ],
          "scatterpolar": [
           {
            "marker": {
             "colorbar": {
              "outlinewidth": 0,
              "ticks": ""
             }
            },
            "type": "scatterpolar"
           }
          ],
          "scatterpolargl": [
           {
            "marker": {
             "colorbar": {
              "outlinewidth": 0,
              "ticks": ""
             }
            },
            "type": "scatterpolargl"
           }
          ],
          "scatterternary": [
           {
            "marker": {
             "colorbar": {
              "outlinewidth": 0,
              "ticks": ""
             }
            },
            "type": "scatterternary"
           }
          ],
          "surface": [
           {
            "colorbar": {
             "outlinewidth": 0,
             "ticks": ""
            },
            "colorscale": [
             [
              0,
              "#0d0887"
             ],
             [
              0.1111111111111111,
              "#46039f"
             ],
             [
              0.2222222222222222,
              "#7201a8"
             ],
             [
              0.3333333333333333,
              "#9c179e"
             ],
             [
              0.4444444444444444,
              "#bd3786"
             ],
             [
              0.5555555555555556,
              "#d8576b"
             ],
             [
              0.6666666666666666,
              "#ed7953"
             ],
             [
              0.7777777777777778,
              "#fb9f3a"
             ],
             [
              0.8888888888888888,
              "#fdca26"
             ],
             [
              1,
              "#f0f921"
             ]
            ],
            "type": "surface"
           }
          ],
          "table": [
           {
            "cells": {
             "fill": {
              "color": "#EBF0F8"
             },
             "line": {
              "color": "white"
             }
            },
            "header": {
             "fill": {
              "color": "#C8D4E3"
             },
             "line": {
              "color": "white"
             }
            },
            "type": "table"
           }
          ]
         },
         "layout": {
          "annotationdefaults": {
           "arrowcolor": "#2a3f5f",
           "arrowhead": 0,
           "arrowwidth": 1
          },
          "autotypenumbers": "strict",
          "coloraxis": {
           "colorbar": {
            "outlinewidth": 0,
            "ticks": ""
           }
          },
          "colorscale": {
           "diverging": [
            [
             0,
             "#8e0152"
            ],
            [
             0.1,
             "#c51b7d"
            ],
            [
             0.2,
             "#de77ae"
            ],
            [
             0.3,
             "#f1b6da"
            ],
            [
             0.4,
             "#fde0ef"
            ],
            [
             0.5,
             "#f7f7f7"
            ],
            [
             0.6,
             "#e6f5d0"
            ],
            [
             0.7,
             "#b8e186"
            ],
            [
             0.8,
             "#7fbc41"
            ],
            [
             0.9,
             "#4d9221"
            ],
            [
             1,
             "#276419"
            ]
           ],
           "sequential": [
            [
             0,
             "#0d0887"
            ],
            [
             0.1111111111111111,
             "#46039f"
            ],
            [
             0.2222222222222222,
             "#7201a8"
            ],
            [
             0.3333333333333333,
             "#9c179e"
            ],
            [
             0.4444444444444444,
             "#bd3786"
            ],
            [
             0.5555555555555556,
             "#d8576b"
            ],
            [
             0.6666666666666666,
             "#ed7953"
            ],
            [
             0.7777777777777778,
             "#fb9f3a"
            ],
            [
             0.8888888888888888,
             "#fdca26"
            ],
            [
             1,
             "#f0f921"
            ]
           ],
           "sequentialminus": [
            [
             0,
             "#0d0887"
            ],
            [
             0.1111111111111111,
             "#46039f"
            ],
            [
             0.2222222222222222,
             "#7201a8"
            ],
            [
             0.3333333333333333,
             "#9c179e"
            ],
            [
             0.4444444444444444,
             "#bd3786"
            ],
            [
             0.5555555555555556,
             "#d8576b"
            ],
            [
             0.6666666666666666,
             "#ed7953"
            ],
            [
             0.7777777777777778,
             "#fb9f3a"
            ],
            [
             0.8888888888888888,
             "#fdca26"
            ],
            [
             1,
             "#f0f921"
            ]
           ]
          },
          "colorway": [
           "#636efa",
           "#EF553B",
           "#00cc96",
           "#ab63fa",
           "#FFA15A",
           "#19d3f3",
           "#FF6692",
           "#B6E880",
           "#FF97FF",
           "#FECB52"
          ],
          "font": {
           "color": "#2a3f5f"
          },
          "geo": {
           "bgcolor": "white",
           "lakecolor": "white",
           "landcolor": "#E5ECF6",
           "showlakes": true,
           "showland": true,
           "subunitcolor": "white"
          },
          "hoverlabel": {
           "align": "left"
          },
          "hovermode": "closest",
          "mapbox": {
           "style": "light"
          },
          "paper_bgcolor": "white",
          "plot_bgcolor": "#E5ECF6",
          "polar": {
           "angularaxis": {
            "gridcolor": "white",
            "linecolor": "white",
            "ticks": ""
           },
           "bgcolor": "#E5ECF6",
           "radialaxis": {
            "gridcolor": "white",
            "linecolor": "white",
            "ticks": ""
           }
          },
          "scene": {
           "xaxis": {
            "backgroundcolor": "#E5ECF6",
            "gridcolor": "white",
            "gridwidth": 2,
            "linecolor": "white",
            "showbackground": true,
            "ticks": "",
            "zerolinecolor": "white"
           },
           "yaxis": {
            "backgroundcolor": "#E5ECF6",
            "gridcolor": "white",
            "gridwidth": 2,
            "linecolor": "white",
            "showbackground": true,
            "ticks": "",
            "zerolinecolor": "white"
           },
           "zaxis": {
            "backgroundcolor": "#E5ECF6",
            "gridcolor": "white",
            "gridwidth": 2,
            "linecolor": "white",
            "showbackground": true,
            "ticks": "",
            "zerolinecolor": "white"
           }
          },
          "shapedefaults": {
           "line": {
            "color": "#2a3f5f"
           }
          },
          "ternary": {
           "aaxis": {
            "gridcolor": "white",
            "linecolor": "white",
            "ticks": ""
           },
           "baxis": {
            "gridcolor": "white",
            "linecolor": "white",
            "ticks": ""
           },
           "bgcolor": "#E5ECF6",
           "caxis": {
            "gridcolor": "white",
            "linecolor": "white",
            "ticks": ""
           }
          },
          "title": {
           "x": 0.05
          },
          "xaxis": {
           "automargin": true,
           "gridcolor": "white",
           "linecolor": "white",
           "ticks": "",
           "title": {
            "standoff": 15
           },
           "zerolinecolor": "white",
           "zerolinewidth": 2
          },
          "yaxis": {
           "automargin": true,
           "gridcolor": "white",
           "linecolor": "white",
           "ticks": "",
           "title": {
            "standoff": 15
           },
           "zerolinecolor": "white",
           "zerolinewidth": 2
          }
         }
        },
        "title": {
         "text": "StubHub Ticket Prices | n=75 | mean= 324.4617333333333"
        },
        "xaxis": {
         "anchor": "y",
         "domain": [
          0,
          1
         ],
         "title": {
          "text": "rawPrice"
         }
        },
        "yaxis": {
         "anchor": "x",
         "domain": [
          0,
          1
         ],
         "title": {
          "text": "count"
         }
        }
       }
      }
     },
     "metadata": {},
     "output_type": "display_data"
    }
   ],
   "source": [
    "# display(tickets['rawPrice'].describe())\n",
    "# px.scatter(\n",
    "#     tickets[['ticketClassName','rawPrice','faceValue']].dropna(),\n",
    "#     x='faceValue',\n",
    "#     y='rawPrice',\n",
    "#     color='ticketClassName'\n",
    "# )\n",
    "px.histogram(\n",
    "    tickets_sh, \n",
    "    x='rawPrice', \n",
    "    title=f\"StubHub Ticket Prices | n={len(tickets_sh)} | mean= {tickets_sh['rawPrice'].mean()}\"\n",
    ")\n"
   ]
  },
  {
   "cell_type": "markdown",
   "metadata": {},
   "source": [
    "# SeatGeek"
   ]
  },
  {
   "cell_type": "code",
   "execution_count": 68,
   "metadata": {},
   "outputs": [
    {
     "data": {
      "text/html": [
       "<div>\n",
       "<style scoped>\n",
       "    .dataframe tbody tr th:only-of-type {\n",
       "        vertical-align: middle;\n",
       "    }\n",
       "\n",
       "    .dataframe tbody tr th {\n",
       "        vertical-align: top;\n",
       "    }\n",
       "\n",
       "    .dataframe thead th {\n",
       "        text-align: right;\n",
       "    }\n",
       "</style>\n",
       "<table border=\"1\" class=\"dataframe\">\n",
       "  <thead>\n",
       "    <tr style=\"text-align: right;\">\n",
       "      <th></th>\n",
       "      <th>type</th>\n",
       "      <th>id</th>\n",
       "      <th>datetime_utc</th>\n",
       "      <th>venue</th>\n",
       "      <th>datetime_tbd</th>\n",
       "      <th>performers</th>\n",
       "      <th>venue_config</th>\n",
       "      <th>is_open</th>\n",
       "      <th>links</th>\n",
       "      <th>datetime_local</th>\n",
       "      <th>time_tbd</th>\n",
       "      <th>short_title</th>\n",
       "      <th>visible_until_utc</th>\n",
       "      <th>stats</th>\n",
       "      <th>taxonomies</th>\n",
       "      <th>url</th>\n",
       "      <th>score</th>\n",
       "      <th>mobile_entry_enabled</th>\n",
       "      <th>announce_date</th>\n",
       "      <th>created_at</th>\n",
       "      <th>date_tbd</th>\n",
       "      <th>title</th>\n",
       "      <th>popularity</th>\n",
       "      <th>description</th>\n",
       "      <th>status</th>\n",
       "      <th>access_method</th>\n",
       "      <th>event_promotion</th>\n",
       "      <th>announcements</th>\n",
       "      <th>conditional</th>\n",
       "      <th>enddatetime_utc</th>\n",
       "      <th>last_valid_datetime_utc</th>\n",
       "      <th>last_valid_datetime_local</th>\n",
       "      <th>schedule_status</th>\n",
       "      <th>map</th>\n",
       "      <th>relative_url</th>\n",
       "      <th>enriched_data</th>\n",
       "      <th>is_hybrid</th>\n",
       "      <th>show_static_map_images</th>\n",
       "      <th>themes</th>\n",
       "      <th>domain_information</th>\n",
       "    </tr>\n",
       "  </thead>\n",
       "  <tbody>\n",
       "    <tr>\n",
       "      <th>4</th>\n",
       "      <td>comedy</td>\n",
       "      <td>5644489</td>\n",
       "      <td>2022-08-06T00:00:00</td>\n",
       "      <td>{'state': 'TX', 'name_v2': 'Toyota Center', 'p...</td>\n",
       "      <td>False</td>\n",
       "      <td>[{'type': 'theater_comedy', 'name': 'Kevin Har...</td>\n",
       "      <td>{'map_config_id': 7245, 'venue_id': 129, 'stat...</td>\n",
       "      <td>False</td>\n",
       "      <td>[]</td>\n",
       "      <td>2022-08-05T19:00:00</td>\n",
       "      <td>False</td>\n",
       "      <td>Kevin Hart</td>\n",
       "      <td>2022-08-06T04:00:00</td>\n",
       "      <td>{'listing_count': 145, 'average_price': 324, '...</td>\n",
       "      <td>[{'id': 3000000, 'name': 'theater', 'parent_id...</td>\n",
       "      <td>https://seatgeek.com/kevin-hart-tickets/comedy...</td>\n",
       "      <td>0.76</td>\n",
       "      <td>False</td>\n",
       "      <td>2022-02-14T00:00:00</td>\n",
       "      <td>2022-02-14T16:24:11</td>\n",
       "      <td>False</td>\n",
       "      <td>Kevin Hart</td>\n",
       "      <td>0.892</td>\n",
       "      <td></td>\n",
       "      <td>normal</td>\n",
       "      <td>{'method': 'NONE', 'created_at': '2015-11-30T1...</td>\n",
       "      <td>None</td>\n",
       "      <td>{}</td>\n",
       "      <td>False</td>\n",
       "      <td>None</td>\n",
       "      <td>2022-08-06T00:00:00Z</td>\n",
       "      <td>2022-08-05T19:00:00Z</td>\n",
       "      <td>as_originally_scheduled</td>\n",
       "      <td>{'id': 'v129-7245-2', 'retina_id': 'v129-7245-...</td>\n",
       "      <td>/kevin-hart-tickets/comedy/2022-08-05-7-pm/564...</td>\n",
       "      <td>NaN</td>\n",
       "      <td>True</td>\n",
       "      <td>True</td>\n",
       "      <td>[]</td>\n",
       "      <td>[]</td>\n",
       "    </tr>\n",
       "  </tbody>\n",
       "</table>\n",
       "</div>"
      ],
      "text/plain": [
       "     type       id         datetime_utc  \\\n",
       "4  comedy  5644489  2022-08-06T00:00:00   \n",
       "\n",
       "                                               venue  datetime_tbd  \\\n",
       "4  {'state': 'TX', 'name_v2': 'Toyota Center', 'p...         False   \n",
       "\n",
       "                                          performers  \\\n",
       "4  [{'type': 'theater_comedy', 'name': 'Kevin Har...   \n",
       "\n",
       "                                        venue_config  is_open links  \\\n",
       "4  {'map_config_id': 7245, 'venue_id': 129, 'stat...    False    []   \n",
       "\n",
       "        datetime_local  time_tbd short_title    visible_until_utc  \\\n",
       "4  2022-08-05T19:00:00     False  Kevin Hart  2022-08-06T04:00:00   \n",
       "\n",
       "                                               stats  \\\n",
       "4  {'listing_count': 145, 'average_price': 324, '...   \n",
       "\n",
       "                                          taxonomies  \\\n",
       "4  [{'id': 3000000, 'name': 'theater', 'parent_id...   \n",
       "\n",
       "                                                 url  score  \\\n",
       "4  https://seatgeek.com/kevin-hart-tickets/comedy...   0.76   \n",
       "\n",
       "   mobile_entry_enabled        announce_date           created_at  date_tbd  \\\n",
       "4                 False  2022-02-14T00:00:00  2022-02-14T16:24:11     False   \n",
       "\n",
       "        title  popularity description  status  \\\n",
       "4  Kevin Hart       0.892              normal   \n",
       "\n",
       "                                       access_method event_promotion  \\\n",
       "4  {'method': 'NONE', 'created_at': '2015-11-30T1...            None   \n",
       "\n",
       "  announcements  conditional enddatetime_utc last_valid_datetime_utc  \\\n",
       "4            {}        False            None    2022-08-06T00:00:00Z   \n",
       "\n",
       "  last_valid_datetime_local          schedule_status  \\\n",
       "4      2022-08-05T19:00:00Z  as_originally_scheduled   \n",
       "\n",
       "                                                 map  \\\n",
       "4  {'id': 'v129-7245-2', 'retina_id': 'v129-7245-...   \n",
       "\n",
       "                                        relative_url enriched_data  is_hybrid  \\\n",
       "4  /kevin-hart-tickets/comedy/2022-08-05-7-pm/564...           NaN       True   \n",
       "\n",
       "   show_static_map_images themes domain_information  \n",
       "4                    True     []                 []  "
      ]
     },
     "execution_count": 68,
     "metadata": {},
     "output_type": "execute_result"
    }
   ],
   "source": [
    "events_sg = sg.event_search(performers_id=\"5257\") # get this performers id from autocomplete (wip below)\n",
    "events_sg[4:5]"
   ]
  },
  {
   "cell_type": "code",
   "execution_count": 69,
   "metadata": {},
   "outputs": [
    {
     "data": {
      "text/html": [
       "<div>\n",
       "<style scoped>\n",
       "    .dataframe tbody tr th:only-of-type {\n",
       "        vertical-align: middle;\n",
       "    }\n",
       "\n",
       "    .dataframe tbody tr th {\n",
       "        vertical-align: top;\n",
       "    }\n",
       "\n",
       "    .dataframe thead th {\n",
       "        text-align: right;\n",
       "    }\n",
       "</style>\n",
       "<table border=\"1\" class=\"dataframe\">\n",
       "  <thead>\n",
       "    <tr style=\"text-align: right;\">\n",
       "      <th></th>\n",
       "      <th>dm</th>\n",
       "      <th>dq</th>\n",
       "      <th>dp</th>\n",
       "      <th>df</th>\n",
       "      <th>ep</th>\n",
       "      <th>et</th>\n",
       "      <th>f</th>\n",
       "      <th>fi</th>\n",
       "      <th>gk</th>\n",
       "      <th>gr</th>\n",
       "      <th>id</th>\n",
       "      <th>ihd</th>\n",
       "      <th>dl</th>\n",
       "      <th>h</th>\n",
       "      <th>lv</th>\n",
       "      <th>vp</th>\n",
       "      <th>mk</th>\n",
       "      <th>m</th>\n",
       "      <th>pu</th>\n",
       "      <th>p</th>\n",
       "      <th>pf</th>\n",
       "      <th>q</th>\n",
       "      <th>rp</th>\n",
       "      <th>r</th>\n",
       "      <th>rf</th>\n",
       "      <th>rr</th>\n",
       "      <th>ss</th>\n",
       "      <th>sgp</th>\n",
       "      <th>sgd</th>\n",
       "      <th>sgf</th>\n",
       "      <th>sif</th>\n",
       "      <th>s</th>\n",
       "      <th>sr</th>\n",
       "      <th>sf</th>\n",
       "      <th>sh</th>\n",
       "      <th>sco</th>\n",
       "      <th>sp</th>\n",
       "      <th>spt</th>\n",
       "      <th>st</th>\n",
       "      <th>wc</th>\n",
       "      <th>sro</th>\n",
       "      <th>sci</th>\n",
       "      <th>ftrs</th>\n",
       "      <th>ppt</th>\n",
       "      <th>ptd</th>\n",
       "      <th>ptl</th>\n",
       "      <th>d</th>\n",
       "    </tr>\n",
       "  </thead>\n",
       "  <tbody>\n",
       "    <tr>\n",
       "      <th>0</th>\n",
       "      <td>electronic</td>\n",
       "      <td>{'b': 6, 'dq': 1.0, 'ddq': '0.2', 'ev': 214.11}</td>\n",
       "      <td>467</td>\n",
       "      <td>118</td>\n",
       "      <td>True</td>\n",
       "      <td>True</td>\n",
       "      <td>118.00</td>\n",
       "      <td>1b122672-2333-481c-b851-6000037ccdc0</td>\n",
       "      <td>214_q</td>\n",
       "      <td>467002</td>\n",
       "      <td>X03tOvm9lpR</td>\n",
       "      <td>2022-08-05</td>\n",
       "      <td>0</td>\n",
       "      <td>0</td>\n",
       "      <td>False</td>\n",
       "      <td>False</td>\n",
       "      <td>s:214 r:q</td>\n",
       "      <td>exchange</td>\n",
       "      <td>0</td>\n",
       "      <td>349</td>\n",
       "      <td>467.00</td>\n",
       "      <td>3</td>\n",
       "      <td>7</td>\n",
       "      <td>q</td>\n",
       "      <td>Row Q</td>\n",
       "      <td>Q</td>\n",
       "      <td>[]</td>\n",
       "      <td>349.0</td>\n",
       "      <td>349</td>\n",
       "      <td>118.00</td>\n",
       "      <td>False</td>\n",
       "      <td>214</td>\n",
       "      <td>214</td>\n",
       "      <td>Section 214</td>\n",
       "      <td>0</td>\n",
       "      <td>False</td>\n",
       "      <td>[3]</td>\n",
       "      <td></td>\n",
       "      <td>mobile</td>\n",
       "      <td>False</td>\n",
       "      <td>0</td>\n",
       "      <td>[]</td>\n",
       "      <td>NaN</td>\n",
       "      <td>NaN</td>\n",
       "      <td>NaN</td>\n",
       "      <td>NaN</td>\n",
       "      <td>NaN</td>\n",
       "    </tr>\n",
       "    <tr>\n",
       "      <th>1</th>\n",
       "      <td>electronic</td>\n",
       "      <td>{'b': 6, 'dq': 1.0, 'ddq': '0.2', 'ev': 227.55}</td>\n",
       "      <td>467</td>\n",
       "      <td>118</td>\n",
       "      <td>True</td>\n",
       "      <td>True</td>\n",
       "      <td>118.00</td>\n",
       "      <td>3ee37036-e758-4d82-bed7-2ebc80cecbbd</td>\n",
       "      <td>211_q</td>\n",
       "      <td>467002</td>\n",
       "      <td>jDvsENJekjv</td>\n",
       "      <td>2022-08-05</td>\n",
       "      <td>0</td>\n",
       "      <td>0</td>\n",
       "      <td>False</td>\n",
       "      <td>False</td>\n",
       "      <td>s:211 r:q</td>\n",
       "      <td>exchange</td>\n",
       "      <td>0</td>\n",
       "      <td>349</td>\n",
       "      <td>467.00</td>\n",
       "      <td>4</td>\n",
       "      <td>7</td>\n",
       "      <td>q</td>\n",
       "      <td>Row Q</td>\n",
       "      <td>Q</td>\n",
       "      <td>[]</td>\n",
       "      <td>349.0</td>\n",
       "      <td>349</td>\n",
       "      <td>118.00</td>\n",
       "      <td>False</td>\n",
       "      <td>211</td>\n",
       "      <td>211</td>\n",
       "      <td>Section 211</td>\n",
       "      <td>0</td>\n",
       "      <td>False</td>\n",
       "      <td>[2, 4]</td>\n",
       "      <td></td>\n",
       "      <td>mobile</td>\n",
       "      <td>False</td>\n",
       "      <td>0</td>\n",
       "      <td>[]</td>\n",
       "      <td>NaN</td>\n",
       "      <td>NaN</td>\n",
       "      <td>NaN</td>\n",
       "      <td>NaN</td>\n",
       "      <td>NaN</td>\n",
       "    </tr>\n",
       "    <tr>\n",
       "      <th>2</th>\n",
       "      <td>electronic</td>\n",
       "      <td>{'b': 6, 'dq': 1.0, 'ddq': '0.2', 'ev': 274.22}</td>\n",
       "      <td>545</td>\n",
       "      <td>136</td>\n",
       "      <td>True</td>\n",
       "      <td>True</td>\n",
       "      <td>136.08</td>\n",
       "      <td>NaN</td>\n",
       "      <td>115 w_x</td>\n",
       "      <td>546002</td>\n",
       "      <td>nx0swbJXK2R</td>\n",
       "      <td>2022-08-05</td>\n",
       "      <td>0</td>\n",
       "      <td>0</td>\n",
       "      <td>False</td>\n",
       "      <td>False</td>\n",
       "      <td>s:115-w r:x</td>\n",
       "      <td>exchange</td>\n",
       "      <td>0</td>\n",
       "      <td>409</td>\n",
       "      <td>545.08</td>\n",
       "      <td>3</td>\n",
       "      <td>7</td>\n",
       "      <td>x</td>\n",
       "      <td>Row X</td>\n",
       "      <td>X</td>\n",
       "      <td>[]</td>\n",
       "      <td>409.0</td>\n",
       "      <td>409</td>\n",
       "      <td>136.08</td>\n",
       "      <td>False</td>\n",
       "      <td>115 w</td>\n",
       "      <td>115</td>\n",
       "      <td>Section 115 W</td>\n",
       "      <td>0</td>\n",
       "      <td>False</td>\n",
       "      <td>[3]</td>\n",
       "      <td></td>\n",
       "      <td>mobile</td>\n",
       "      <td>False</td>\n",
       "      <td>0</td>\n",
       "      <td>[]</td>\n",
       "      <td>NaN</td>\n",
       "      <td>NaN</td>\n",
       "      <td>NaN</td>\n",
       "      <td>NaN</td>\n",
       "      <td>NaN</td>\n",
       "    </tr>\n",
       "    <tr>\n",
       "      <th>3</th>\n",
       "      <td>electronic</td>\n",
       "      <td>{'b': 6, 'dq': 1.0, 'ddq': '0.2', 'ev': 277.84}</td>\n",
       "      <td>545</td>\n",
       "      <td>136</td>\n",
       "      <td>True</td>\n",
       "      <td>True</td>\n",
       "      <td>136.08</td>\n",
       "      <td>23ef9a8f-514d-4c4d-be4b-d8c9efaab901</td>\n",
       "      <td>111_x</td>\n",
       "      <td>546002</td>\n",
       "      <td>KezcrB4oqMv</td>\n",
       "      <td>2022-08-05</td>\n",
       "      <td>0</td>\n",
       "      <td>0</td>\n",
       "      <td>False</td>\n",
       "      <td>False</td>\n",
       "      <td>s:111 r:x</td>\n",
       "      <td>exchange</td>\n",
       "      <td>0</td>\n",
       "      <td>409</td>\n",
       "      <td>545.08</td>\n",
       "      <td>4</td>\n",
       "      <td>7</td>\n",
       "      <td>x</td>\n",
       "      <td>Row X</td>\n",
       "      <td>X</td>\n",
       "      <td>[]</td>\n",
       "      <td>409.0</td>\n",
       "      <td>409</td>\n",
       "      <td>136.08</td>\n",
       "      <td>False</td>\n",
       "      <td>111</td>\n",
       "      <td>111</td>\n",
       "      <td>Section 111</td>\n",
       "      <td>0</td>\n",
       "      <td>False</td>\n",
       "      <td>[2, 4]</td>\n",
       "      <td></td>\n",
       "      <td>mobile</td>\n",
       "      <td>False</td>\n",
       "      <td>0</td>\n",
       "      <td>[]</td>\n",
       "      <td>NaN</td>\n",
       "      <td>NaN</td>\n",
       "      <td>NaN</td>\n",
       "      <td>NaN</td>\n",
       "      <td>NaN</td>\n",
       "    </tr>\n",
       "    <tr>\n",
       "      <th>4</th>\n",
       "      <td>electronic</td>\n",
       "      <td>{'b': 3, 'dq': 37.53, 'ddq': '4.4', 'ev': 237.46}</td>\n",
       "      <td>251</td>\n",
       "      <td>65</td>\n",
       "      <td>True</td>\n",
       "      <td>True</td>\n",
       "      <td>65.98</td>\n",
       "      <td>d98cba7f-d7c3-4448-8c7d-8d521b734806</td>\n",
       "      <td>117_d_3</td>\n",
       "      <td>252002</td>\n",
       "      <td>vb3iYxLA9Xe</td>\n",
       "      <td>2022-08-05</td>\n",
       "      <td>0</td>\n",
       "      <td>0</td>\n",
       "      <td>False</td>\n",
       "      <td>False</td>\n",
       "      <td>s:117 r:d</td>\n",
       "      <td>exchange</td>\n",
       "      <td>0</td>\n",
       "      <td>186</td>\n",
       "      <td>251.98</td>\n",
       "      <td>1</td>\n",
       "      <td>7</td>\n",
       "      <td>d</td>\n",
       "      <td>Row D</td>\n",
       "      <td>D</td>\n",
       "      <td>[3]</td>\n",
       "      <td>186.0</td>\n",
       "      <td>186</td>\n",
       "      <td>65.98</td>\n",
       "      <td>False</td>\n",
       "      <td>117</td>\n",
       "      <td>117</td>\n",
       "      <td>Section 117</td>\n",
       "      <td>0</td>\n",
       "      <td>False</td>\n",
       "      <td>[1]</td>\n",
       "      <td></td>\n",
       "      <td>mobile</td>\n",
       "      <td>False</td>\n",
       "      <td>0</td>\n",
       "      <td>[]</td>\n",
       "      <td>NaN</td>\n",
       "      <td>NaN</td>\n",
       "      <td>NaN</td>\n",
       "      <td>NaN</td>\n",
       "      <td>NaN</td>\n",
       "    </tr>\n",
       "    <tr>\n",
       "      <th>...</th>\n",
       "      <td>...</td>\n",
       "      <td>...</td>\n",
       "      <td>...</td>\n",
       "      <td>...</td>\n",
       "      <td>...</td>\n",
       "      <td>...</td>\n",
       "      <td>...</td>\n",
       "      <td>...</td>\n",
       "      <td>...</td>\n",
       "      <td>...</td>\n",
       "      <td>...</td>\n",
       "      <td>...</td>\n",
       "      <td>...</td>\n",
       "      <td>...</td>\n",
       "      <td>...</td>\n",
       "      <td>...</td>\n",
       "      <td>...</td>\n",
       "      <td>...</td>\n",
       "      <td>...</td>\n",
       "      <td>...</td>\n",
       "      <td>...</td>\n",
       "      <td>...</td>\n",
       "      <td>...</td>\n",
       "      <td>...</td>\n",
       "      <td>...</td>\n",
       "      <td>...</td>\n",
       "      <td>...</td>\n",
       "      <td>...</td>\n",
       "      <td>...</td>\n",
       "      <td>...</td>\n",
       "      <td>...</td>\n",
       "      <td>...</td>\n",
       "      <td>...</td>\n",
       "      <td>...</td>\n",
       "      <td>...</td>\n",
       "      <td>...</td>\n",
       "      <td>...</td>\n",
       "      <td>...</td>\n",
       "      <td>...</td>\n",
       "      <td>...</td>\n",
       "      <td>...</td>\n",
       "      <td>...</td>\n",
       "      <td>...</td>\n",
       "      <td>...</td>\n",
       "      <td>...</td>\n",
       "      <td>...</td>\n",
       "      <td>...</td>\n",
       "    </tr>\n",
       "    <tr>\n",
       "      <th>177</th>\n",
       "      <td>electronic</td>\n",
       "      <td>{'b': 3, 'dq': 35.04, 'ddq': '4.2', 'ev': 1548...</td>\n",
       "      <td>1664</td>\n",
       "      <td>406</td>\n",
       "      <td>True</td>\n",
       "      <td>True</td>\n",
       "      <td>406.28</td>\n",
       "      <td>NaN</td>\n",
       "      <td>floor 2_1</td>\n",
       "      <td>1665002</td>\n",
       "      <td>MAeIBMrgkeY</td>\n",
       "      <td>2022-03-07</td>\n",
       "      <td>0</td>\n",
       "      <td>0</td>\n",
       "      <td>False</td>\n",
       "      <td>False</td>\n",
       "      <td>s:floor-2 r:1</td>\n",
       "      <td>exchange</td>\n",
       "      <td>0</td>\n",
       "      <td>1258</td>\n",
       "      <td>1664.28</td>\n",
       "      <td>8</td>\n",
       "      <td>7</td>\n",
       "      <td>1</td>\n",
       "      <td>Row 1</td>\n",
       "      <td>1</td>\n",
       "      <td>[]</td>\n",
       "      <td>1258.0</td>\n",
       "      <td>1258</td>\n",
       "      <td>406.28</td>\n",
       "      <td>False</td>\n",
       "      <td>floor 2</td>\n",
       "      <td>FLR2</td>\n",
       "      <td>Floor 2</td>\n",
       "      <td>0</td>\n",
       "      <td>False</td>\n",
       "      <td>[1, 2, 3, 4, 5, 6, 8]</td>\n",
       "      <td></td>\n",
       "      <td>mobile</td>\n",
       "      <td>False</td>\n",
       "      <td>0</td>\n",
       "      <td>[3]</td>\n",
       "      <td>NaN</td>\n",
       "      <td>NaN</td>\n",
       "      <td>NaN</td>\n",
       "      <td>NaN</td>\n",
       "      <td>Mobile Entry Tickets. Must have smart device o...</td>\n",
       "    </tr>\n",
       "    <tr>\n",
       "      <th>178</th>\n",
       "      <td>electronic</td>\n",
       "      <td>{'b': 1, 'dq': 83.74, 'ddq': '8.5', 'ev': 180.77}</td>\n",
       "      <td>150</td>\n",
       "      <td>41</td>\n",
       "      <td>True</td>\n",
       "      <td>True</td>\n",
       "      <td>41.43</td>\n",
       "      <td>a3aa7b3b-4b67-410c-b8b7-9c8b2fdfbb3b</td>\n",
       "      <td>216_l_13:14</td>\n",
       "      <td>151002</td>\n",
       "      <td>2v0clb8rwaJ</td>\n",
       "      <td>2022-08-04</td>\n",
       "      <td>0</td>\n",
       "      <td>0</td>\n",
       "      <td>False</td>\n",
       "      <td>False</td>\n",
       "      <td>s:216 r:l</td>\n",
       "      <td>exchange</td>\n",
       "      <td>0</td>\n",
       "      <td>109</td>\n",
       "      <td>150.43</td>\n",
       "      <td>2</td>\n",
       "      <td>7</td>\n",
       "      <td>l</td>\n",
       "      <td>Row L</td>\n",
       "      <td>L</td>\n",
       "      <td>[13, 14]</td>\n",
       "      <td>109.0</td>\n",
       "      <td>109</td>\n",
       "      <td>41.43</td>\n",
       "      <td>False</td>\n",
       "      <td>216</td>\n",
       "      <td>216</td>\n",
       "      <td>Section 216</td>\n",
       "      <td>0</td>\n",
       "      <td>False</td>\n",
       "      <td>[2]</td>\n",
       "      <td></td>\n",
       "      <td>mobile</td>\n",
       "      <td>False</td>\n",
       "      <td>0</td>\n",
       "      <td>[2]</td>\n",
       "      <td>NaN</td>\n",
       "      <td>NaN</td>\n",
       "      <td>NaN</td>\n",
       "      <td>NaN</td>\n",
       "      <td>Mobile Entry Tickets. Must have smart device o...</td>\n",
       "    </tr>\n",
       "    <tr>\n",
       "      <th>179</th>\n",
       "      <td>electronic</td>\n",
       "      <td>{'b': 1, 'dq': 85.84, 'ddq': '8.7', 'ev': 191.88}</td>\n",
       "      <td>157</td>\n",
       "      <td>43</td>\n",
       "      <td>True</td>\n",
       "      <td>True</td>\n",
       "      <td>43.03</td>\n",
       "      <td>9f0f56e4-4016-4234-b77f-82fda794e689</td>\n",
       "      <td>209_j_3:4</td>\n",
       "      <td>158002</td>\n",
       "      <td>YgJtqPK2vOq</td>\n",
       "      <td>2022-08-04</td>\n",
       "      <td>0</td>\n",
       "      <td>0</td>\n",
       "      <td>False</td>\n",
       "      <td>False</td>\n",
       "      <td>s:209 r:j</td>\n",
       "      <td>exchange</td>\n",
       "      <td>0</td>\n",
       "      <td>114</td>\n",
       "      <td>157.03</td>\n",
       "      <td>2</td>\n",
       "      <td>7</td>\n",
       "      <td>j</td>\n",
       "      <td>Row J</td>\n",
       "      <td>J</td>\n",
       "      <td>[3, 4]</td>\n",
       "      <td>114.0</td>\n",
       "      <td>114</td>\n",
       "      <td>43.03</td>\n",
       "      <td>False</td>\n",
       "      <td>209</td>\n",
       "      <td>209</td>\n",
       "      <td>Section 209</td>\n",
       "      <td>0</td>\n",
       "      <td>False</td>\n",
       "      <td>[2]</td>\n",
       "      <td></td>\n",
       "      <td>mobile</td>\n",
       "      <td>False</td>\n",
       "      <td>0</td>\n",
       "      <td>[2]</td>\n",
       "      <td>NaN</td>\n",
       "      <td>NaN</td>\n",
       "      <td>NaN</td>\n",
       "      <td>NaN</td>\n",
       "      <td>Mobile Entry Tickets. Must have smart device o...</td>\n",
       "    </tr>\n",
       "    <tr>\n",
       "      <th>180</th>\n",
       "      <td>electronic</td>\n",
       "      <td>{'b': 3, 'dq': 40.41, 'ddq': '4.7', 'ev': 175.85}</td>\n",
       "      <td>184</td>\n",
       "      <td>50</td>\n",
       "      <td>True</td>\n",
       "      <td>True</td>\n",
       "      <td>50.01</td>\n",
       "      <td>585a6d90-920f-4104-ab05-386d0a2ec7f4</td>\n",
       "      <td>219_f</td>\n",
       "      <td>185002</td>\n",
       "      <td>dNgUZdNo3KG</td>\n",
       "      <td>2022-08-06</td>\n",
       "      <td>0</td>\n",
       "      <td>0</td>\n",
       "      <td>False</td>\n",
       "      <td>False</td>\n",
       "      <td>s:219 r:f</td>\n",
       "      <td>exchange</td>\n",
       "      <td>0</td>\n",
       "      <td>134</td>\n",
       "      <td>184.01</td>\n",
       "      <td>1</td>\n",
       "      <td>7</td>\n",
       "      <td>f</td>\n",
       "      <td>Row F</td>\n",
       "      <td>F</td>\n",
       "      <td>[]</td>\n",
       "      <td>134.0</td>\n",
       "      <td>134</td>\n",
       "      <td>50.01</td>\n",
       "      <td>False</td>\n",
       "      <td>219</td>\n",
       "      <td>219</td>\n",
       "      <td>Section 219</td>\n",
       "      <td>0</td>\n",
       "      <td>False</td>\n",
       "      <td>[1]</td>\n",
       "      <td></td>\n",
       "      <td>mobile</td>\n",
       "      <td>False</td>\n",
       "      <td>0</td>\n",
       "      <td>[]</td>\n",
       "      <td>NaN</td>\n",
       "      <td>NaN</td>\n",
       "      <td>NaN</td>\n",
       "      <td>NaN</td>\n",
       "      <td>Mobile XFER</td>\n",
       "    </tr>\n",
       "    <tr>\n",
       "      <th>181</th>\n",
       "      <td>electronic</td>\n",
       "      <td>{'b': 2, 'dq': 55.9, 'ddq': '6.2', 'ev': 189.18}</td>\n",
       "      <td>184</td>\n",
       "      <td>50</td>\n",
       "      <td>True</td>\n",
       "      <td>True</td>\n",
       "      <td>50.01</td>\n",
       "      <td>bd611c3b-558a-40b0-974e-f7d84351c7f4</td>\n",
       "      <td>213_g</td>\n",
       "      <td>185002</td>\n",
       "      <td>Zm9h6RP5woJ</td>\n",
       "      <td>2022-08-06</td>\n",
       "      <td>0</td>\n",
       "      <td>0</td>\n",
       "      <td>False</td>\n",
       "      <td>False</td>\n",
       "      <td>s:213 r:g</td>\n",
       "      <td>exchange</td>\n",
       "      <td>0</td>\n",
       "      <td>134</td>\n",
       "      <td>184.01</td>\n",
       "      <td>1</td>\n",
       "      <td>7</td>\n",
       "      <td>g</td>\n",
       "      <td>Row G</td>\n",
       "      <td>G</td>\n",
       "      <td>[]</td>\n",
       "      <td>134.0</td>\n",
       "      <td>134</td>\n",
       "      <td>50.01</td>\n",
       "      <td>False</td>\n",
       "      <td>213</td>\n",
       "      <td>213</td>\n",
       "      <td>Section 213</td>\n",
       "      <td>0</td>\n",
       "      <td>False</td>\n",
       "      <td>[1]</td>\n",
       "      <td></td>\n",
       "      <td>mobile</td>\n",
       "      <td>False</td>\n",
       "      <td>0</td>\n",
       "      <td>[]</td>\n",
       "      <td>NaN</td>\n",
       "      <td>NaN</td>\n",
       "      <td>NaN</td>\n",
       "      <td>NaN</td>\n",
       "      <td>Mobile XFER</td>\n",
       "    </tr>\n",
       "  </tbody>\n",
       "</table>\n",
       "<p>182 rows × 47 columns</p>\n",
       "</div>"
      ],
      "text/plain": [
       "             dm                                                 dq    dp   df  \\\n",
       "0    electronic    {'b': 6, 'dq': 1.0, 'ddq': '0.2', 'ev': 214.11}   467  118   \n",
       "1    electronic    {'b': 6, 'dq': 1.0, 'ddq': '0.2', 'ev': 227.55}   467  118   \n",
       "2    electronic    {'b': 6, 'dq': 1.0, 'ddq': '0.2', 'ev': 274.22}   545  136   \n",
       "3    electronic    {'b': 6, 'dq': 1.0, 'ddq': '0.2', 'ev': 277.84}   545  136   \n",
       "4    electronic  {'b': 3, 'dq': 37.53, 'ddq': '4.4', 'ev': 237.46}   251   65   \n",
       "..          ...                                                ...   ...  ...   \n",
       "177  electronic  {'b': 3, 'dq': 35.04, 'ddq': '4.2', 'ev': 1548...  1664  406   \n",
       "178  electronic  {'b': 1, 'dq': 83.74, 'ddq': '8.5', 'ev': 180.77}   150   41   \n",
       "179  electronic  {'b': 1, 'dq': 85.84, 'ddq': '8.7', 'ev': 191.88}   157   43   \n",
       "180  electronic  {'b': 3, 'dq': 40.41, 'ddq': '4.7', 'ev': 175.85}   184   50   \n",
       "181  electronic   {'b': 2, 'dq': 55.9, 'ddq': '6.2', 'ev': 189.18}   184   50   \n",
       "\n",
       "       ep    et       f                                    fi           gk  \\\n",
       "0    True  True  118.00  1b122672-2333-481c-b851-6000037ccdc0        214_q   \n",
       "1    True  True  118.00  3ee37036-e758-4d82-bed7-2ebc80cecbbd        211_q   \n",
       "2    True  True  136.08                                   NaN      115 w_x   \n",
       "3    True  True  136.08  23ef9a8f-514d-4c4d-be4b-d8c9efaab901        111_x   \n",
       "4    True  True   65.98  d98cba7f-d7c3-4448-8c7d-8d521b734806      117_d_3   \n",
       "..    ...   ...     ...                                   ...          ...   \n",
       "177  True  True  406.28                                   NaN    floor 2_1   \n",
       "178  True  True   41.43  a3aa7b3b-4b67-410c-b8b7-9c8b2fdfbb3b  216_l_13:14   \n",
       "179  True  True   43.03  9f0f56e4-4016-4234-b77f-82fda794e689    209_j_3:4   \n",
       "180  True  True   50.01  585a6d90-920f-4104-ab05-386d0a2ec7f4        219_f   \n",
       "181  True  True   50.01  bd611c3b-558a-40b0-974e-f7d84351c7f4        213_g   \n",
       "\n",
       "          gr           id         ihd  dl  h     lv     vp             mk  \\\n",
       "0     467002  X03tOvm9lpR  2022-08-05   0  0  False  False      s:214 r:q   \n",
       "1     467002  jDvsENJekjv  2022-08-05   0  0  False  False      s:211 r:q   \n",
       "2     546002  nx0swbJXK2R  2022-08-05   0  0  False  False    s:115-w r:x   \n",
       "3     546002  KezcrB4oqMv  2022-08-05   0  0  False  False      s:111 r:x   \n",
       "4     252002  vb3iYxLA9Xe  2022-08-05   0  0  False  False      s:117 r:d   \n",
       "..       ...          ...         ...  .. ..    ...    ...            ...   \n",
       "177  1665002  MAeIBMrgkeY  2022-03-07   0  0  False  False  s:floor-2 r:1   \n",
       "178   151002  2v0clb8rwaJ  2022-08-04   0  0  False  False      s:216 r:l   \n",
       "179   158002  YgJtqPK2vOq  2022-08-04   0  0  False  False      s:209 r:j   \n",
       "180   185002  dNgUZdNo3KG  2022-08-06   0  0  False  False      s:219 r:f   \n",
       "181   185002  Zm9h6RP5woJ  2022-08-06   0  0  False  False      s:213 r:g   \n",
       "\n",
       "            m  pu     p       pf  q  rp  r     rf rr        ss     sgp   sgd  \\\n",
       "0    exchange   0   349   467.00  3   7  q  Row Q  Q        []   349.0   349   \n",
       "1    exchange   0   349   467.00  4   7  q  Row Q  Q        []   349.0   349   \n",
       "2    exchange   0   409   545.08  3   7  x  Row X  X        []   409.0   409   \n",
       "3    exchange   0   409   545.08  4   7  x  Row X  X        []   409.0   409   \n",
       "4    exchange   0   186   251.98  1   7  d  Row D  D       [3]   186.0   186   \n",
       "..        ...  ..   ...      ... ..  .. ..    ... ..       ...     ...   ...   \n",
       "177  exchange   0  1258  1664.28  8   7  1  Row 1  1        []  1258.0  1258   \n",
       "178  exchange   0   109   150.43  2   7  l  Row L  L  [13, 14]   109.0   109   \n",
       "179  exchange   0   114   157.03  2   7  j  Row J  J    [3, 4]   114.0   114   \n",
       "180  exchange   0   134   184.01  1   7  f  Row F  F        []   134.0   134   \n",
       "181  exchange   0   134   184.01  1   7  g  Row G  G        []   134.0   134   \n",
       "\n",
       "        sgf    sif        s    sr             sf  sh    sco  \\\n",
       "0    118.00  False      214   214    Section 214   0  False   \n",
       "1    118.00  False      211   211    Section 211   0  False   \n",
       "2    136.08  False    115 w   115  Section 115 W   0  False   \n",
       "3    136.08  False      111   111    Section 111   0  False   \n",
       "4     65.98  False      117   117    Section 117   0  False   \n",
       "..      ...    ...      ...   ...            ...  ..    ...   \n",
       "177  406.28  False  floor 2  FLR2        Floor 2   0  False   \n",
       "178   41.43  False      216   216    Section 216   0  False   \n",
       "179   43.03  False      209   209    Section 209   0  False   \n",
       "180   50.01  False      219   219    Section 219   0  False   \n",
       "181   50.01  False      213   213    Section 213   0  False   \n",
       "\n",
       "                        sp spt      st     wc  sro  sci ftrs  ppt  ptd  ptl  \\\n",
       "0                      [3]      mobile  False    0   []  NaN  NaN  NaN  NaN   \n",
       "1                   [2, 4]      mobile  False    0   []  NaN  NaN  NaN  NaN   \n",
       "2                      [3]      mobile  False    0   []  NaN  NaN  NaN  NaN   \n",
       "3                   [2, 4]      mobile  False    0   []  NaN  NaN  NaN  NaN   \n",
       "4                      [1]      mobile  False    0   []  NaN  NaN  NaN  NaN   \n",
       "..                     ...  ..     ...    ...  ...  ...  ...  ...  ...  ...   \n",
       "177  [1, 2, 3, 4, 5, 6, 8]      mobile  False    0  [3]  NaN  NaN  NaN  NaN   \n",
       "178                    [2]      mobile  False    0  [2]  NaN  NaN  NaN  NaN   \n",
       "179                    [2]      mobile  False    0  [2]  NaN  NaN  NaN  NaN   \n",
       "180                    [1]      mobile  False    0   []  NaN  NaN  NaN  NaN   \n",
       "181                    [1]      mobile  False    0   []  NaN  NaN  NaN  NaN   \n",
       "\n",
       "                                                     d  \n",
       "0                                                  NaN  \n",
       "1                                                  NaN  \n",
       "2                                                  NaN  \n",
       "3                                                  NaN  \n",
       "4                                                  NaN  \n",
       "..                                                 ...  \n",
       "177  Mobile Entry Tickets. Must have smart device o...  \n",
       "178  Mobile Entry Tickets. Must have smart device o...  \n",
       "179  Mobile Entry Tickets. Must have smart device o...  \n",
       "180                                        Mobile XFER  \n",
       "181                                        Mobile XFER  \n",
       "\n",
       "[182 rows x 47 columns]"
      ]
     },
     "execution_count": 69,
     "metadata": {},
     "output_type": "execute_result"
    }
   ],
   "source": [
    "tickets_sg = sg.ticket_search(event_id = events_sg['id'][4])\n",
    "tickets_sg"
   ]
  },
  {
   "cell_type": "code",
   "execution_count": 64,
   "metadata": {},
   "outputs": [
    {
     "data": {
      "application/vnd.plotly.v1+json": {
       "config": {
        "plotlyServerURL": "https://plot.ly"
       },
       "data": [
        {
         "alignmentgroup": "True",
         "bingroup": "x",
         "hovertemplate": "p=%{x}<br>count=%{y}<extra></extra>",
         "legendgroup": "",
         "marker": {
          "color": "#636efa",
          "pattern": {
           "shape": ""
          }
         },
         "name": "",
         "offsetgroup": "",
         "orientation": "v",
         "showlegend": false,
         "type": "histogram",
         "x": [
          342,
          342,
          400,
          400,
          182,
          195,
          307,
          1001,
          419,
          540,
          1055,
          212,
          158,
          203,
          226,
          1265,
          1386,
          1900,
          893,
          946,
          177,
          152,
          161,
          1788,
          129,
          129,
          129,
          129,
          129,
          129,
          129,
          129,
          129,
          129,
          129,
          129,
          129,
          129,
          129,
          114,
          129,
          129,
          129,
          114,
          129,
          129,
          129,
          129,
          129,
          129,
          114,
          129,
          114,
          129,
          129,
          129,
          129,
          129,
          129,
          129,
          129,
          129,
          129,
          129,
          129,
          129,
          129,
          129,
          129,
          129,
          143,
          143,
          143,
          143,
          129,
          129,
          129,
          129,
          129,
          129,
          129,
          129,
          129,
          152,
          152,
          152,
          143,
          143,
          267,
          267,
          129,
          129,
          114,
          114,
          445,
          445,
          129,
          472,
          472,
          114,
          219,
          217,
          232,
          230,
          129,
          114,
          114,
          129,
          129,
          503,
          419,
          114,
          114,
          114,
          114,
          129,
          114,
          129,
          129,
          129,
          129,
          117,
          111,
          105,
          99,
          129,
          114,
          114,
          1895,
          201,
          110,
          114,
          152,
          131,
          114,
          114,
          114,
          114,
          102,
          112,
          107,
          122,
          102,
          117,
          129,
          137,
          252,
          281,
          281,
          280,
          280,
          401,
          425,
          280,
          227,
          143,
          134,
          104,
          99,
          211,
          131,
          131,
          221,
          636,
          181,
          175,
          186,
          190,
          194,
          131,
          187,
          109,
          754,
          682,
          97,
          114,
          102,
          1161,
          1231,
          107,
          111,
          131,
          131
         ],
         "xaxis": "x",
         "yaxis": "y"
        }
       ],
       "layout": {
        "barmode": "relative",
        "legend": {
         "tracegroupgap": 0
        },
        "template": {
         "data": {
          "bar": [
           {
            "error_x": {
             "color": "#2a3f5f"
            },
            "error_y": {
             "color": "#2a3f5f"
            },
            "marker": {
             "line": {
              "color": "#E5ECF6",
              "width": 0.5
             },
             "pattern": {
              "fillmode": "overlay",
              "size": 10,
              "solidity": 0.2
             }
            },
            "type": "bar"
           }
          ],
          "barpolar": [
           {
            "marker": {
             "line": {
              "color": "#E5ECF6",
              "width": 0.5
             },
             "pattern": {
              "fillmode": "overlay",
              "size": 10,
              "solidity": 0.2
             }
            },
            "type": "barpolar"
           }
          ],
          "carpet": [
           {
            "aaxis": {
             "endlinecolor": "#2a3f5f",
             "gridcolor": "white",
             "linecolor": "white",
             "minorgridcolor": "white",
             "startlinecolor": "#2a3f5f"
            },
            "baxis": {
             "endlinecolor": "#2a3f5f",
             "gridcolor": "white",
             "linecolor": "white",
             "minorgridcolor": "white",
             "startlinecolor": "#2a3f5f"
            },
            "type": "carpet"
           }
          ],
          "choropleth": [
           {
            "colorbar": {
             "outlinewidth": 0,
             "ticks": ""
            },
            "type": "choropleth"
           }
          ],
          "contour": [
           {
            "colorbar": {
             "outlinewidth": 0,
             "ticks": ""
            },
            "colorscale": [
             [
              0,
              "#0d0887"
             ],
             [
              0.1111111111111111,
              "#46039f"
             ],
             [
              0.2222222222222222,
              "#7201a8"
             ],
             [
              0.3333333333333333,
              "#9c179e"
             ],
             [
              0.4444444444444444,
              "#bd3786"
             ],
             [
              0.5555555555555556,
              "#d8576b"
             ],
             [
              0.6666666666666666,
              "#ed7953"
             ],
             [
              0.7777777777777778,
              "#fb9f3a"
             ],
             [
              0.8888888888888888,
              "#fdca26"
             ],
             [
              1,
              "#f0f921"
             ]
            ],
            "type": "contour"
           }
          ],
          "contourcarpet": [
           {
            "colorbar": {
             "outlinewidth": 0,
             "ticks": ""
            },
            "type": "contourcarpet"
           }
          ],
          "heatmap": [
           {
            "colorbar": {
             "outlinewidth": 0,
             "ticks": ""
            },
            "colorscale": [
             [
              0,
              "#0d0887"
             ],
             [
              0.1111111111111111,
              "#46039f"
             ],
             [
              0.2222222222222222,
              "#7201a8"
             ],
             [
              0.3333333333333333,
              "#9c179e"
             ],
             [
              0.4444444444444444,
              "#bd3786"
             ],
             [
              0.5555555555555556,
              "#d8576b"
             ],
             [
              0.6666666666666666,
              "#ed7953"
             ],
             [
              0.7777777777777778,
              "#fb9f3a"
             ],
             [
              0.8888888888888888,
              "#fdca26"
             ],
             [
              1,
              "#f0f921"
             ]
            ],
            "type": "heatmap"
           }
          ],
          "heatmapgl": [
           {
            "colorbar": {
             "outlinewidth": 0,
             "ticks": ""
            },
            "colorscale": [
             [
              0,
              "#0d0887"
             ],
             [
              0.1111111111111111,
              "#46039f"
             ],
             [
              0.2222222222222222,
              "#7201a8"
             ],
             [
              0.3333333333333333,
              "#9c179e"
             ],
             [
              0.4444444444444444,
              "#bd3786"
             ],
             [
              0.5555555555555556,
              "#d8576b"
             ],
             [
              0.6666666666666666,
              "#ed7953"
             ],
             [
              0.7777777777777778,
              "#fb9f3a"
             ],
             [
              0.8888888888888888,
              "#fdca26"
             ],
             [
              1,
              "#f0f921"
             ]
            ],
            "type": "heatmapgl"
           }
          ],
          "histogram": [
           {
            "marker": {
             "pattern": {
              "fillmode": "overlay",
              "size": 10,
              "solidity": 0.2
             }
            },
            "type": "histogram"
           }
          ],
          "histogram2d": [
           {
            "colorbar": {
             "outlinewidth": 0,
             "ticks": ""
            },
            "colorscale": [
             [
              0,
              "#0d0887"
             ],
             [
              0.1111111111111111,
              "#46039f"
             ],
             [
              0.2222222222222222,
              "#7201a8"
             ],
             [
              0.3333333333333333,
              "#9c179e"
             ],
             [
              0.4444444444444444,
              "#bd3786"
             ],
             [
              0.5555555555555556,
              "#d8576b"
             ],
             [
              0.6666666666666666,
              "#ed7953"
             ],
             [
              0.7777777777777778,
              "#fb9f3a"
             ],
             [
              0.8888888888888888,
              "#fdca26"
             ],
             [
              1,
              "#f0f921"
             ]
            ],
            "type": "histogram2d"
           }
          ],
          "histogram2dcontour": [
           {
            "colorbar": {
             "outlinewidth": 0,
             "ticks": ""
            },
            "colorscale": [
             [
              0,
              "#0d0887"
             ],
             [
              0.1111111111111111,
              "#46039f"
             ],
             [
              0.2222222222222222,
              "#7201a8"
             ],
             [
              0.3333333333333333,
              "#9c179e"
             ],
             [
              0.4444444444444444,
              "#bd3786"
             ],
             [
              0.5555555555555556,
              "#d8576b"
             ],
             [
              0.6666666666666666,
              "#ed7953"
             ],
             [
              0.7777777777777778,
              "#fb9f3a"
             ],
             [
              0.8888888888888888,
              "#fdca26"
             ],
             [
              1,
              "#f0f921"
             ]
            ],
            "type": "histogram2dcontour"
           }
          ],
          "mesh3d": [
           {
            "colorbar": {
             "outlinewidth": 0,
             "ticks": ""
            },
            "type": "mesh3d"
           }
          ],
          "parcoords": [
           {
            "line": {
             "colorbar": {
              "outlinewidth": 0,
              "ticks": ""
             }
            },
            "type": "parcoords"
           }
          ],
          "pie": [
           {
            "automargin": true,
            "type": "pie"
           }
          ],
          "scatter": [
           {
            "fillpattern": {
             "fillmode": "overlay",
             "size": 10,
             "solidity": 0.2
            },
            "type": "scatter"
           }
          ],
          "scatter3d": [
           {
            "line": {
             "colorbar": {
              "outlinewidth": 0,
              "ticks": ""
             }
            },
            "marker": {
             "colorbar": {
              "outlinewidth": 0,
              "ticks": ""
             }
            },
            "type": "scatter3d"
           }
          ],
          "scattercarpet": [
           {
            "marker": {
             "colorbar": {
              "outlinewidth": 0,
              "ticks": ""
             }
            },
            "type": "scattercarpet"
           }
          ],
          "scattergeo": [
           {
            "marker": {
             "colorbar": {
              "outlinewidth": 0,
              "ticks": ""
             }
            },
            "type": "scattergeo"
           }
          ],
          "scattergl": [
           {
            "marker": {
             "colorbar": {
              "outlinewidth": 0,
              "ticks": ""
             }
            },
            "type": "scattergl"
           }
          ],
          "scattermapbox": [
           {
            "marker": {
             "colorbar": {
              "outlinewidth": 0,
              "ticks": ""
             }
            },
            "type": "scattermapbox"
           }
          ],
          "scatterpolar": [
           {
            "marker": {
             "colorbar": {
              "outlinewidth": 0,
              "ticks": ""
             }
            },
            "type": "scatterpolar"
           }
          ],
          "scatterpolargl": [
           {
            "marker": {
             "colorbar": {
              "outlinewidth": 0,
              "ticks": ""
             }
            },
            "type": "scatterpolargl"
           }
          ],
          "scatterternary": [
           {
            "marker": {
             "colorbar": {
              "outlinewidth": 0,
              "ticks": ""
             }
            },
            "type": "scatterternary"
           }
          ],
          "surface": [
           {
            "colorbar": {
             "outlinewidth": 0,
             "ticks": ""
            },
            "colorscale": [
             [
              0,
              "#0d0887"
             ],
             [
              0.1111111111111111,
              "#46039f"
             ],
             [
              0.2222222222222222,
              "#7201a8"
             ],
             [
              0.3333333333333333,
              "#9c179e"
             ],
             [
              0.4444444444444444,
              "#bd3786"
             ],
             [
              0.5555555555555556,
              "#d8576b"
             ],
             [
              0.6666666666666666,
              "#ed7953"
             ],
             [
              0.7777777777777778,
              "#fb9f3a"
             ],
             [
              0.8888888888888888,
              "#fdca26"
             ],
             [
              1,
              "#f0f921"
             ]
            ],
            "type": "surface"
           }
          ],
          "table": [
           {
            "cells": {
             "fill": {
              "color": "#EBF0F8"
             },
             "line": {
              "color": "white"
             }
            },
            "header": {
             "fill": {
              "color": "#C8D4E3"
             },
             "line": {
              "color": "white"
             }
            },
            "type": "table"
           }
          ]
         },
         "layout": {
          "annotationdefaults": {
           "arrowcolor": "#2a3f5f",
           "arrowhead": 0,
           "arrowwidth": 1
          },
          "autotypenumbers": "strict",
          "coloraxis": {
           "colorbar": {
            "outlinewidth": 0,
            "ticks": ""
           }
          },
          "colorscale": {
           "diverging": [
            [
             0,
             "#8e0152"
            ],
            [
             0.1,
             "#c51b7d"
            ],
            [
             0.2,
             "#de77ae"
            ],
            [
             0.3,
             "#f1b6da"
            ],
            [
             0.4,
             "#fde0ef"
            ],
            [
             0.5,
             "#f7f7f7"
            ],
            [
             0.6,
             "#e6f5d0"
            ],
            [
             0.7,
             "#b8e186"
            ],
            [
             0.8,
             "#7fbc41"
            ],
            [
             0.9,
             "#4d9221"
            ],
            [
             1,
             "#276419"
            ]
           ],
           "sequential": [
            [
             0,
             "#0d0887"
            ],
            [
             0.1111111111111111,
             "#46039f"
            ],
            [
             0.2222222222222222,
             "#7201a8"
            ],
            [
             0.3333333333333333,
             "#9c179e"
            ],
            [
             0.4444444444444444,
             "#bd3786"
            ],
            [
             0.5555555555555556,
             "#d8576b"
            ],
            [
             0.6666666666666666,
             "#ed7953"
            ],
            [
             0.7777777777777778,
             "#fb9f3a"
            ],
            [
             0.8888888888888888,
             "#fdca26"
            ],
            [
             1,
             "#f0f921"
            ]
           ],
           "sequentialminus": [
            [
             0,
             "#0d0887"
            ],
            [
             0.1111111111111111,
             "#46039f"
            ],
            [
             0.2222222222222222,
             "#7201a8"
            ],
            [
             0.3333333333333333,
             "#9c179e"
            ],
            [
             0.4444444444444444,
             "#bd3786"
            ],
            [
             0.5555555555555556,
             "#d8576b"
            ],
            [
             0.6666666666666666,
             "#ed7953"
            ],
            [
             0.7777777777777778,
             "#fb9f3a"
            ],
            [
             0.8888888888888888,
             "#fdca26"
            ],
            [
             1,
             "#f0f921"
            ]
           ]
          },
          "colorway": [
           "#636efa",
           "#EF553B",
           "#00cc96",
           "#ab63fa",
           "#FFA15A",
           "#19d3f3",
           "#FF6692",
           "#B6E880",
           "#FF97FF",
           "#FECB52"
          ],
          "font": {
           "color": "#2a3f5f"
          },
          "geo": {
           "bgcolor": "white",
           "lakecolor": "white",
           "landcolor": "#E5ECF6",
           "showlakes": true,
           "showland": true,
           "subunitcolor": "white"
          },
          "hoverlabel": {
           "align": "left"
          },
          "hovermode": "closest",
          "mapbox": {
           "style": "light"
          },
          "paper_bgcolor": "white",
          "plot_bgcolor": "#E5ECF6",
          "polar": {
           "angularaxis": {
            "gridcolor": "white",
            "linecolor": "white",
            "ticks": ""
           },
           "bgcolor": "#E5ECF6",
           "radialaxis": {
            "gridcolor": "white",
            "linecolor": "white",
            "ticks": ""
           }
          },
          "scene": {
           "xaxis": {
            "backgroundcolor": "#E5ECF6",
            "gridcolor": "white",
            "gridwidth": 2,
            "linecolor": "white",
            "showbackground": true,
            "ticks": "",
            "zerolinecolor": "white"
           },
           "yaxis": {
            "backgroundcolor": "#E5ECF6",
            "gridcolor": "white",
            "gridwidth": 2,
            "linecolor": "white",
            "showbackground": true,
            "ticks": "",
            "zerolinecolor": "white"
           },
           "zaxis": {
            "backgroundcolor": "#E5ECF6",
            "gridcolor": "white",
            "gridwidth": 2,
            "linecolor": "white",
            "showbackground": true,
            "ticks": "",
            "zerolinecolor": "white"
           }
          },
          "shapedefaults": {
           "line": {
            "color": "#2a3f5f"
           }
          },
          "ternary": {
           "aaxis": {
            "gridcolor": "white",
            "linecolor": "white",
            "ticks": ""
           },
           "baxis": {
            "gridcolor": "white",
            "linecolor": "white",
            "ticks": ""
           },
           "bgcolor": "#E5ECF6",
           "caxis": {
            "gridcolor": "white",
            "linecolor": "white",
            "ticks": ""
           }
          },
          "title": {
           "x": 0.05
          },
          "xaxis": {
           "automargin": true,
           "gridcolor": "white",
           "linecolor": "white",
           "ticks": "",
           "title": {
            "standoff": 15
           },
           "zerolinecolor": "white",
           "zerolinewidth": 2
          },
          "yaxis": {
           "automargin": true,
           "gridcolor": "white",
           "linecolor": "white",
           "ticks": "",
           "title": {
            "standoff": 15
           },
           "zerolinecolor": "white",
           "zerolinewidth": 2
          }
         }
        },
        "title": {
         "text": "SeatGeek tickets | n=183 | mean=$245"
        },
        "xaxis": {
         "anchor": "y",
         "domain": [
          0,
          1
         ],
         "title": {
          "text": "p"
         }
        },
        "yaxis": {
         "anchor": "x",
         "domain": [
          0,
          1
         ],
         "title": {
          "text": "count"
         }
        }
       }
      }
     },
     "metadata": {},
     "output_type": "display_data"
    }
   ],
   "source": [
    "px.histogram(\n",
    "    tickets_sg, \n",
    "    x='p',\n",
    "    title=f\"SeatGeek tickets | n={len(tickets_sg)} | mean=${int(tickets_sg['p'].mean())}\"\n",
    ")"
   ]
  },
  {
   "cell_type": "code",
   "execution_count": 58,
   "metadata": {},
   "outputs": [
    {
     "data": {
      "text/html": [
       "<div>\n",
       "<style scoped>\n",
       "    .dataframe tbody tr th:only-of-type {\n",
       "        vertical-align: middle;\n",
       "    }\n",
       "\n",
       "    .dataframe tbody tr th {\n",
       "        vertical-align: top;\n",
       "    }\n",
       "\n",
       "    .dataframe thead th {\n",
       "        text-align: right;\n",
       "    }\n",
       "</style>\n",
       "<table border=\"1\" class=\"dataframe\">\n",
       "  <thead>\n",
       "    <tr style=\"text-align: right;\">\n",
       "      <th></th>\n",
       "      <th>62</th>\n",
       "      <th>176</th>\n",
       "    </tr>\n",
       "  </thead>\n",
       "  <tbody>\n",
       "    <tr>\n",
       "      <th>dm</th>\n",
       "      <td>electronic</td>\n",
       "      <td>electronic</td>\n",
       "    </tr>\n",
       "    <tr>\n",
       "      <th>dq</th>\n",
       "      <td>{'b': 5, 'dq': 21.88, 'ddq': '2.8', 'ev': 153.39}</td>\n",
       "      <td>{'b': 0, 'dq': 97.91, 'ddq': '9.8', 'ev': 206.99}</td>\n",
       "    </tr>\n",
       "    <tr>\n",
       "      <th>dp</th>\n",
       "      <td>177</td>\n",
       "      <td>141</td>\n",
       "    </tr>\n",
       "    <tr>\n",
       "      <th>df</th>\n",
       "      <td>48</td>\n",
       "      <td>39</td>\n",
       "    </tr>\n",
       "    <tr>\n",
       "      <th>ep</th>\n",
       "      <td>True</td>\n",
       "      <td>True</td>\n",
       "    </tr>\n",
       "    <tr>\n",
       "      <th>et</th>\n",
       "      <td>True</td>\n",
       "      <td>True</td>\n",
       "    </tr>\n",
       "    <tr>\n",
       "      <th>f</th>\n",
       "      <td>48.32</td>\n",
       "      <td>39.51</td>\n",
       "    </tr>\n",
       "    <tr>\n",
       "      <th>fi</th>\n",
       "      <td>9f0f56e4-4016-4234-b77f-82fda794e689</td>\n",
       "      <td>9f0f56e4-4016-4234-b77f-82fda794e689</td>\n",
       "    </tr>\n",
       "    <tr>\n",
       "      <th>gk</th>\n",
       "      <td>209_k_1</td>\n",
       "      <td>209_k_10:17</td>\n",
       "    </tr>\n",
       "    <tr>\n",
       "      <th>gr</th>\n",
       "      <td>178002</td>\n",
       "      <td>142002</td>\n",
       "    </tr>\n",
       "    <tr>\n",
       "      <th>id</th>\n",
       "      <td>7KntevzLlre</td>\n",
       "      <td>oV7HarO9Xxd</td>\n",
       "    </tr>\n",
       "    <tr>\n",
       "      <th>ihd</th>\n",
       "      <td>2022-08-05</td>\n",
       "      <td>2022-08-04</td>\n",
       "    </tr>\n",
       "    <tr>\n",
       "      <th>dl</th>\n",
       "      <td>0</td>\n",
       "      <td>0</td>\n",
       "    </tr>\n",
       "    <tr>\n",
       "      <th>h</th>\n",
       "      <td>0</td>\n",
       "      <td>0</td>\n",
       "    </tr>\n",
       "    <tr>\n",
       "      <th>lv</th>\n",
       "      <td>False</td>\n",
       "      <td>False</td>\n",
       "    </tr>\n",
       "    <tr>\n",
       "      <th>vp</th>\n",
       "      <td>False</td>\n",
       "      <td>False</td>\n",
       "    </tr>\n",
       "    <tr>\n",
       "      <th>mk</th>\n",
       "      <td>s:209 r:k</td>\n",
       "      <td>s:209 r:k</td>\n",
       "    </tr>\n",
       "    <tr>\n",
       "      <th>m</th>\n",
       "      <td>exchange</td>\n",
       "      <td>exchange</td>\n",
       "    </tr>\n",
       "    <tr>\n",
       "      <th>pu</th>\n",
       "      <td>0</td>\n",
       "      <td>0</td>\n",
       "    </tr>\n",
       "    <tr>\n",
       "      <th>p</th>\n",
       "      <td>129</td>\n",
       "      <td>102</td>\n",
       "    </tr>\n",
       "    <tr>\n",
       "      <th>pf</th>\n",
       "      <td>177.32</td>\n",
       "      <td>141.51</td>\n",
       "    </tr>\n",
       "    <tr>\n",
       "      <th>q</th>\n",
       "      <td>1</td>\n",
       "      <td>8</td>\n",
       "    </tr>\n",
       "    <tr>\n",
       "      <th>rp</th>\n",
       "      <td>7</td>\n",
       "      <td>7</td>\n",
       "    </tr>\n",
       "    <tr>\n",
       "      <th>r</th>\n",
       "      <td>k</td>\n",
       "      <td>k</td>\n",
       "    </tr>\n",
       "    <tr>\n",
       "      <th>rf</th>\n",
       "      <td>Row K</td>\n",
       "      <td>Row K</td>\n",
       "    </tr>\n",
       "    <tr>\n",
       "      <th>rr</th>\n",
       "      <td>K</td>\n",
       "      <td>K</td>\n",
       "    </tr>\n",
       "    <tr>\n",
       "      <th>ss</th>\n",
       "      <td>[1]</td>\n",
       "      <td>[10, 11, 12, 13, 14, 15, 16, 17]</td>\n",
       "    </tr>\n",
       "    <tr>\n",
       "      <th>sgp</th>\n",
       "      <td>129.0</td>\n",
       "      <td>102.0</td>\n",
       "    </tr>\n",
       "    <tr>\n",
       "      <th>sgd</th>\n",
       "      <td>129</td>\n",
       "      <td>102</td>\n",
       "    </tr>\n",
       "    <tr>\n",
       "      <th>sgf</th>\n",
       "      <td>48.32</td>\n",
       "      <td>39.51</td>\n",
       "    </tr>\n",
       "    <tr>\n",
       "      <th>sif</th>\n",
       "      <td>False</td>\n",
       "      <td>False</td>\n",
       "    </tr>\n",
       "    <tr>\n",
       "      <th>s</th>\n",
       "      <td>209</td>\n",
       "      <td>209</td>\n",
       "    </tr>\n",
       "    <tr>\n",
       "      <th>sr</th>\n",
       "      <td>209</td>\n",
       "      <td>209</td>\n",
       "    </tr>\n",
       "    <tr>\n",
       "      <th>sf</th>\n",
       "      <td>Section 209</td>\n",
       "      <td>Section 209</td>\n",
       "    </tr>\n",
       "    <tr>\n",
       "      <th>sh</th>\n",
       "      <td>0</td>\n",
       "      <td>0</td>\n",
       "    </tr>\n",
       "    <tr>\n",
       "      <th>sco</th>\n",
       "      <td>False</td>\n",
       "      <td>False</td>\n",
       "    </tr>\n",
       "    <tr>\n",
       "      <th>sp</th>\n",
       "      <td>[1]</td>\n",
       "      <td>[1, 2, 3, 4, 5, 6, 8]</td>\n",
       "    </tr>\n",
       "    <tr>\n",
       "      <th>spt</th>\n",
       "      <td></td>\n",
       "      <td></td>\n",
       "    </tr>\n",
       "    <tr>\n",
       "      <th>st</th>\n",
       "      <td>mobile</td>\n",
       "      <td>mobile</td>\n",
       "    </tr>\n",
       "    <tr>\n",
       "      <th>wc</th>\n",
       "      <td>False</td>\n",
       "      <td>False</td>\n",
       "    </tr>\n",
       "    <tr>\n",
       "      <th>sro</th>\n",
       "      <td>0</td>\n",
       "      <td>0</td>\n",
       "    </tr>\n",
       "    <tr>\n",
       "      <th>sci</th>\n",
       "      <td>[]</td>\n",
       "      <td>[2]</td>\n",
       "    </tr>\n",
       "    <tr>\n",
       "      <th>ftrs</th>\n",
       "      <td>NaN</td>\n",
       "      <td>NaN</td>\n",
       "    </tr>\n",
       "    <tr>\n",
       "      <th>ppt</th>\n",
       "      <td>NaN</td>\n",
       "      <td>NaN</td>\n",
       "    </tr>\n",
       "    <tr>\n",
       "      <th>ptd</th>\n",
       "      <td>NaN</td>\n",
       "      <td>NaN</td>\n",
       "    </tr>\n",
       "    <tr>\n",
       "      <th>ptl</th>\n",
       "      <td>NaN</td>\n",
       "      <td>NaN</td>\n",
       "    </tr>\n",
       "    <tr>\n",
       "      <th>d</th>\n",
       "      <td>XFER lId:13511886</td>\n",
       "      <td>Mobile Entry Tickets. Must have smart device o...</td>\n",
       "    </tr>\n",
       "  </tbody>\n",
       "</table>\n",
       "</div>"
      ],
      "text/plain": [
       "                                                    62   \\\n",
       "dm                                           electronic   \n",
       "dq    {'b': 5, 'dq': 21.88, 'ddq': '2.8', 'ev': 153.39}   \n",
       "dp                                                  177   \n",
       "df                                                   48   \n",
       "ep                                                 True   \n",
       "et                                                 True   \n",
       "f                                                 48.32   \n",
       "fi                 9f0f56e4-4016-4234-b77f-82fda794e689   \n",
       "gk                                              209_k_1   \n",
       "gr                                               178002   \n",
       "id                                          7KntevzLlre   \n",
       "ihd                                          2022-08-05   \n",
       "dl                                                    0   \n",
       "h                                                     0   \n",
       "lv                                                False   \n",
       "vp                                                False   \n",
       "mk                                            s:209 r:k   \n",
       "m                                              exchange   \n",
       "pu                                                    0   \n",
       "p                                                   129   \n",
       "pf                                               177.32   \n",
       "q                                                     1   \n",
       "rp                                                    7   \n",
       "r                                                     k   \n",
       "rf                                                Row K   \n",
       "rr                                                    K   \n",
       "ss                                                  [1]   \n",
       "sgp                                               129.0   \n",
       "sgd                                                 129   \n",
       "sgf                                               48.32   \n",
       "sif                                               False   \n",
       "s                                                   209   \n",
       "sr                                                  209   \n",
       "sf                                          Section 209   \n",
       "sh                                                    0   \n",
       "sco                                               False   \n",
       "sp                                                  [1]   \n",
       "spt                                                       \n",
       "st                                               mobile   \n",
       "wc                                                False   \n",
       "sro                                                   0   \n",
       "sci                                                  []   \n",
       "ftrs                                                NaN   \n",
       "ppt                                                 NaN   \n",
       "ptd                                                 NaN   \n",
       "ptl                                                 NaN   \n",
       "d                                     XFER lId:13511886   \n",
       "\n",
       "                                                    176  \n",
       "dm                                           electronic  \n",
       "dq    {'b': 0, 'dq': 97.91, 'ddq': '9.8', 'ev': 206.99}  \n",
       "dp                                                  141  \n",
       "df                                                   39  \n",
       "ep                                                 True  \n",
       "et                                                 True  \n",
       "f                                                 39.51  \n",
       "fi                 9f0f56e4-4016-4234-b77f-82fda794e689  \n",
       "gk                                          209_k_10:17  \n",
       "gr                                               142002  \n",
       "id                                          oV7HarO9Xxd  \n",
       "ihd                                          2022-08-04  \n",
       "dl                                                    0  \n",
       "h                                                     0  \n",
       "lv                                                False  \n",
       "vp                                                False  \n",
       "mk                                            s:209 r:k  \n",
       "m                                              exchange  \n",
       "pu                                                    0  \n",
       "p                                                   102  \n",
       "pf                                               141.51  \n",
       "q                                                     8  \n",
       "rp                                                    7  \n",
       "r                                                     k  \n",
       "rf                                                Row K  \n",
       "rr                                                    K  \n",
       "ss                     [10, 11, 12, 13, 14, 15, 16, 17]  \n",
       "sgp                                               102.0  \n",
       "sgd                                                 102  \n",
       "sgf                                               39.51  \n",
       "sif                                               False  \n",
       "s                                                   209  \n",
       "sr                                                  209  \n",
       "sf                                          Section 209  \n",
       "sh                                                    0  \n",
       "sco                                               False  \n",
       "sp                                [1, 2, 3, 4, 5, 6, 8]  \n",
       "spt                                                      \n",
       "st                                               mobile  \n",
       "wc                                                False  \n",
       "sro                                                   0  \n",
       "sci                                                 [2]  \n",
       "ftrs                                                NaN  \n",
       "ppt                                                 NaN  \n",
       "ptd                                                 NaN  \n",
       "ptl                                                 NaN  \n",
       "d     Mobile Entry Tickets. Must have smart device o...  "
      ]
     },
     "execution_count": 58,
     "metadata": {},
     "output_type": "execute_result"
    }
   ],
   "source": [
    "pd.options.display.max_rows = 50\n",
    "df = tickets_sg[tickets_sg['s'] == \"209\"]\n",
    "df = df[df['r']=='k']\n",
    "# df.transpose()"
   ]
  },
  {
   "cell_type": "code",
   "execution_count": 55,
   "metadata": {},
   "outputs": [
    {
     "data": {
      "text/plain": [
       "count    183.000000\n",
       "mean      87.025683\n",
       "std      100.486950\n",
       "min       38.010000\n",
       "25%       48.320000\n",
       "50%       48.320000\n",
       "75%       74.185000\n",
       "max      633.120000\n",
       "Name: sgf, dtype: float64"
      ]
     },
     "execution_count": 55,
     "metadata": {},
     "output_type": "execute_result"
    }
   ],
   "source": [
    "# working hypothesis\n",
    "# 'p' is display price\n",
    "# 'pf' is price final? (with fees?)\n",
    "\n",
    "# sgf - sg fees?"
   ]
  },
  {
   "cell_type": "code",
   "execution_count": 56,
   "metadata": {},
   "outputs": [
    {
     "data": {
      "text/plain": [
       "{'type': 'theater_comedy',\n",
       " 'name': 'Kevin Hart',\n",
       " 'image': 'https://seatgeek.com/images/performers-landscape/kevin-hart-8908bd/5257/huge.jpg',\n",
       " 'id': 5257,\n",
       " 'images': {'1200x525': 'https://seatgeek.com/images/performers-landscape/kevin-hart-5e407c/5257/1200x525.jpg',\n",
       "  '136x136': 'https://seatgeek.com/images/performers-landscape/kevin-hart-6e8a6c/5257/136x136.jpg',\n",
       "  'banner': 'https://seatgeek.com/images/performers-landscape/kevin-hart-4dc4fd/5257/banner.jpg',\n",
       "  'block': 'https://seatgeek.com/images/performers-landscape/kevin-hart-e83bd4/5257/block.jpg',\n",
       "  'huge': 'https://seatgeek.com/images/performers-landscape/kevin-hart-8908bd/5257/huge.jpg',\n",
       "  'mongo': 'https://seatgeek.com/images/performers-landscape/kevin-hart-ed6ea9/5257/mongo.jpg',\n",
       "  'square_mid': 'https://seatgeek.com/images/performers-landscape/kevin-hart-c7a5cf/5257/square_mid.jpg'},\n",
       " 'divisions': None,\n",
       " 'has_upcoming_events': True,\n",
       " 'stats': {'event_count': 54},\n",
       " 'official_logo': {},\n",
       " 'taxonomies': [{'id': 3000000,\n",
       "   'name': 'theater',\n",
       "   'parent_id': None,\n",
       "   'rank': 4},\n",
       "  {'id': 3040000, 'name': 'comedy', 'parent_id': 3000000, 'rank': 5}],\n",
       " 'image_attribution': 'Kevin Mazur / WireImage / Getty Images',\n",
       " 'url': 'https://seatgeek.com/kevin-hart-tickets',\n",
       " 'score': 22152372.0,\n",
       " 'slug': 'kevin-hart',\n",
       " 'home_venue_id': None,\n",
       " 'short_name': 'Kevin Hart',\n",
       " 'num_upcoming_events': 54,\n",
       " 'colors': None,\n",
       " 'image_license': 'rightsmanaged',\n",
       " 'popularity': 0.0,\n",
       " 'location': None,\n",
       " 'passes': [{'pass_type': 'PARKING',\n",
       "   'parent_type': 'PERFORMER',\n",
       "   'parent_id': 5257,\n",
       "   'name': 'Kevin Hart Parking',\n",
       "   'url': 'https://seatgeek.com/kevin-hart-tickets/parking',\n",
       "   'stats': {'event_count': 23},\n",
       "   'images': {'1200x525': 'https://seatgeek.com/images/performers-landscape/kevin-hart-5e407c/5257/1200x525.jpg',\n",
       "    '136x136': 'https://seatgeek.com/images/performers-landscape/kevin-hart-6e8a6c/5257/136x136.jpg',\n",
       "    'banner': 'https://seatgeek.com/images/performers-landscape/kevin-hart-4dc4fd/5257/banner.jpg',\n",
       "    'block': 'https://seatgeek.com/images/performers-landscape/kevin-hart-e83bd4/5257/block.jpg',\n",
       "    'huge': 'https://seatgeek.com/images/performers-landscape/kevin-hart-8908bd/5257/huge.jpg',\n",
       "    'mongo': 'https://seatgeek.com/images/performers-landscape/kevin-hart-ed6ea9/5257/mongo.jpg',\n",
       "    'square_mid': 'https://seatgeek.com/images/performers-landscape/kevin-hart-c7a5cf/5257/square_mid.jpg'},\n",
       "   'image': 'https://uploads-seatgeek.global.ssl.fastly.net/passes/parking-rebrand.png',\n",
       "   'image_attribution': 'Kevin Mazur / WireImage / Getty Images',\n",
       "   'image_license': 'rightsmanaged'}],\n",
       " 'tracks': [{'id': 'spotify-5U51BJU0ncHHsLw9raErsS',\n",
       "   'performer_id': 5257,\n",
       "   'artist': 'Kevin Hart',\n",
       "   'name': 'Panda',\n",
       "   'preview_url': 'https://p.scdn.co/mp3-preview/750b94801239e9950a091b57eab64e732f5a7cbf?cid=996344ae68a645ae822ddcf2aa83e3c8',\n",
       "   'spotify_url': 'https://open.spotify.com/track/5U51BJU0ncHHsLw9raErsS',\n",
       "   'album_art_url': 'https://i.scdn.co/image/ab67616d0000b273011a47f3c396678ba0c73e9b'},\n",
       "  {'id': 'spotify-4WlkMZHJV31RMsj1ksQXlc',\n",
       "   'performer_id': 5257,\n",
       "   'artist': 'Kevin Hart, Thomas Middleditch',\n",
       "   'name': 'Saturday - Cast Version',\n",
       "   'preview_url': 'https://p.scdn.co/mp3-preview/5bf418aed6b2ff5af666f82bc7a322b3cc31fbb4?cid=996344ae68a645ae822ddcf2aa83e3c8',\n",
       "   'spotify_url': 'https://open.spotify.com/track/4WlkMZHJV31RMsj1ksQXlc',\n",
       "   'album_art_url': 'https://i.scdn.co/image/6395473dbc7dab06fd502bdca7a0399a54032bd6'},\n",
       "  {'id': 'spotify-7ev7ODNV0ddM0yJbFszcsT',\n",
       "   'performer_id': 5257,\n",
       "   'artist': 'Kevin Hart, Thomas Middleditch, Ed Helms',\n",
       "   'name': 'Hallelujah',\n",
       "   'preview_url': 'https://p.scdn.co/mp3-preview/614dec7904c3a9fbc13f6d4d95f947f8ab26ce08?cid=996344ae68a645ae822ddcf2aa83e3c8',\n",
       "   'spotify_url': 'https://open.spotify.com/track/7ev7ODNV0ddM0yJbFszcsT',\n",
       "   'album_art_url': 'https://i.scdn.co/image/6395473dbc7dab06fd502bdca7a0399a54032bd6'},\n",
       "  {'id': 'spotify-0aU0VUn8IlKRENDou5t5M3',\n",
       "   'performer_id': 5257,\n",
       "   'artist': 'Kevin Hart, Nick Jonas',\n",
       "   'name': 'Sunday Morning',\n",
       "   'preview_url': 'https://p.scdn.co/mp3-preview/11a1f01d3e76d4216bc328efdb698732f2421caa?cid=996344ae68a645ae822ddcf2aa83e3c8',\n",
       "   'spotify_url': 'https://open.spotify.com/track/0aU0VUn8IlKRENDou5t5M3',\n",
       "   'album_art_url': 'https://i.scdn.co/image/df80f896b2c5001ee2415d7cf1a39fe72095596e'},\n",
       "  {'id': 'spotify-5xT4P3jI5oTJAikA4iMUdN',\n",
       "   'performer_id': 5257,\n",
       "   'artist': 'Kevin Hart, Chris Brown, Joelle James',\n",
       "   'name': 'Scream',\n",
       "   'preview_url': 'https://p.scdn.co/mp3-preview/028383198e077f49770aa9601218e2705a237d16?cid=996344ae68a645ae822ddcf2aa83e3c8',\n",
       "   'spotify_url': 'https://open.spotify.com/track/5xT4P3jI5oTJAikA4iMUdN',\n",
       "   'album_art_url': 'https://i.scdn.co/image/df80f896b2c5001ee2415d7cf1a39fe72095596e'}],\n",
       " 'pattern_url': '',\n",
       " 'verified_provider_message': '',\n",
       " 'performer_header_style_type': 'PERFORMER_IMAGE',\n",
       " 'image_rights_message': '(c) Kevin Mazur / WireImage / Getty Images'}"
      ]
     },
     "execution_count": 56,
     "metadata": {},
     "output_type": "execute_result"
    }
   ],
   "source": [
    "import pandas as pd\n",
    "import requests\n",
    "\n",
    "import requests\n",
    "\n",
    "## autocomplete\n",
    "\n",
    "cookies = {\n",
    "    'sixpack_client_id': 'c0180531-3cf2-4506-8b93-05549e06dbe4',\n",
    "    'sg_uuid': '5a2a0515-1823-e064-7d50-88bdaf7786a3',\n",
    "    'sixpack_client_id': 'c0180531-3cf2-4506-8b93-05549e06dbe4',\n",
    "    'sg_session': '98a9668ba852e4b569827df81b38618e',\n",
    "    'SeatGeekAffiliate': '%5B225%2Cnull%2C616810256%2Cnull%2Cnull%5D',\n",
    "    'sg_sess': 'd7193ed7f926fdc27d7cd5d71b87ba2c2c42045aattributes%7Ca%3A3%3A%7Bs%3A10%3A%22attributes%22%3Ba%3A3%3A%7Bs%3A17%3A%22entranceSignature%22%3Bs%3A39%3A%22category%3Aentrance%3Aaffiliate%3A225%3Baid%3A225%22%3Bs%3A12%3A%22entrancePath%22%3Bs%3A1%3A%22%2F%22%3Bs%3A13%3A%22search_direct%22%3Bs%3A1%3A%220%22%3B%7Ds%3A5%3A%22flash%22%3Ba%3A0%3A%7B%7Ds%3A12%3A%22flash%2Fremove%22%3Ba%3A0%3A%7B%7D%7Dculture%7Cs%3A2%3A%22en%22%3B',\n",
    "    'pxcts': 'a40a5e88-0d3a-11ed-b617-524277746459',\n",
    "    '_pxvid': 'a3c801d6-0d3a-11ed-992e-484755674261',\n",
    "    '__pxvid': 'a430cc94-0d3a-11ed-a902-0242ac120003',\n",
    "    'fullstory-loaded': 'false',\n",
    "    '_ga': 'GA1.2.1505320341.1658878102',\n",
    "    '_gid': 'GA1.2.1156921031.1658878102',\n",
    "    '_gcl_au': '1.1.144814828.1658878102',\n",
    "    '__ssid': 'da7801d4e7cffa13f33888e21ed84fc',\n",
    "    '_scid': 'b0327f28-060a-47d5-878f-72d93f2e34d0',\n",
    "    '_fbp': 'fb.1.1658878102808.1673726922',\n",
    "    '_tt_enable_cookie': '1',\n",
    "    '_ttp': '09be065f-951c-4d93-bead-c44e77fb4e2c',\n",
    "    '_sctr': '1|1658811600000',\n",
    "    '_pxhd': 'I/w0BNScylsqv8RNqiHYnlzmvXm2AFCoS9rh9xbCKIHGytzOJQcvlZ/kxPUP/GKEeykvBjS21Bzswf5Cpap65w==:za4URej0T85YlRsdhxYpmrt8GwbQRE-4Iba34WXyVOvpMmCGh-9J3aRppZauuvUxZARfGRdeBcm0tVXMC-rMA3Vs/ujG858HpqTFfiDINwA=',\n",
    "    'SeatGeekTimer': '1658880499',\n",
    "    'viewedSeatgeekEmailModal': 'true',\n",
    "    'sg-event-page-view-id': '80eb8036-8077-a804-d5ce-c72b974b8f61',\n",
    "    '_px2': 'eyJ1IjoiZTliOTVhMjAtMGQ0MC0xMWVkLWJiMTAtZTlhNzU1ZTU5N2FjIiwidiI6ImEzYzgwMWQ2LTBkM2EtMTFlZC05OTJlLTQ4NDc1NTY3NDI2MSIsInQiOjE2NTg4ODE1ODExNDAsImgiOiJhZWRiMTczODVkNTYzMmE1NGRjZDExNWJlYWEzN2JjZDUzNzg4ODE5OGE1ZjM4MjczMGQyMDZhNmE5Yzg5N2JiIn0=',\n",
    "    '_gat_sgGaTracker': '1',\n",
    "    '_uetsid': 'a3ed5d000d3a11edb1d43be32e2e1eaf',\n",
    "    '_uetvid': 'a3ed68700d3a11eda61a59ca87e59f69',\n",
    "    'tatari-cookie-test': '52671323',\n",
    "    'tatari-session-cookie': 'c527cebe-7ee7-0e74-8c0b-d8cced1c3419',\n",
    "    't-ip': '1',\n",
    "}\n",
    "\n",
    "headers = {\n",
    "    'authority': 'seatgeek.com',\n",
    "    'accept': 'application/json, text/plain, */*',\n",
    "    'accept-language': 'en-US,en;q=0.9',\n",
    "    # Requests sorts cookies= alphabetically\n",
    "    # 'cookie': 'sixpack_client_id=c0180531-3cf2-4506-8b93-05549e06dbe4; sg_uuid=5a2a0515-1823-e064-7d50-88bdaf7786a3; sixpack_client_id=c0180531-3cf2-4506-8b93-05549e06dbe4; sg_session=98a9668ba852e4b569827df81b38618e; SeatGeekAffiliate=%5B225%2Cnull%2C616810256%2Cnull%2Cnull%5D; sg_sess=d7193ed7f926fdc27d7cd5d71b87ba2c2c42045aattributes%7Ca%3A3%3A%7Bs%3A10%3A%22attributes%22%3Ba%3A3%3A%7Bs%3A17%3A%22entranceSignature%22%3Bs%3A39%3A%22category%3Aentrance%3Aaffiliate%3A225%3Baid%3A225%22%3Bs%3A12%3A%22entrancePath%22%3Bs%3A1%3A%22%2F%22%3Bs%3A13%3A%22search_direct%22%3Bs%3A1%3A%220%22%3B%7Ds%3A5%3A%22flash%22%3Ba%3A0%3A%7B%7Ds%3A12%3A%22flash%2Fremove%22%3Ba%3A0%3A%7B%7D%7Dculture%7Cs%3A2%3A%22en%22%3B; pxcts=a40a5e88-0d3a-11ed-b617-524277746459; _pxvid=a3c801d6-0d3a-11ed-992e-484755674261; __pxvid=a430cc94-0d3a-11ed-a902-0242ac120003; fullstory-loaded=false; _ga=GA1.2.1505320341.1658878102; _gid=GA1.2.1156921031.1658878102; _gcl_au=1.1.144814828.1658878102; __ssid=da7801d4e7cffa13f33888e21ed84fc; _scid=b0327f28-060a-47d5-878f-72d93f2e34d0; _fbp=fb.1.1658878102808.1673726922; _tt_enable_cookie=1; _ttp=09be065f-951c-4d93-bead-c44e77fb4e2c; _sctr=1|1658811600000; _pxhd=I/w0BNScylsqv8RNqiHYnlzmvXm2AFCoS9rh9xbCKIHGytzOJQcvlZ/kxPUP/GKEeykvBjS21Bzswf5Cpap65w==:za4URej0T85YlRsdhxYpmrt8GwbQRE-4Iba34WXyVOvpMmCGh-9J3aRppZauuvUxZARfGRdeBcm0tVXMC-rMA3Vs/ujG858HpqTFfiDINwA=; SeatGeekTimer=1658880499; viewedSeatgeekEmailModal=true; sg-event-page-view-id=80eb8036-8077-a804-d5ce-c72b974b8f61; _px2=eyJ1IjoiZTliOTVhMjAtMGQ0MC0xMWVkLWJiMTAtZTlhNzU1ZTU5N2FjIiwidiI6ImEzYzgwMWQ2LTBkM2EtMTFlZC05OTJlLTQ4NDc1NTY3NDI2MSIsInQiOjE2NTg4ODE1ODExNDAsImgiOiJhZWRiMTczODVkNTYzMmE1NGRjZDExNWJlYWEzN2JjZDUzNzg4ODE5OGE1ZjM4MjczMGQyMDZhNmE5Yzg5N2JiIn0=; _gat_sgGaTracker=1; _uetsid=a3ed5d000d3a11edb1d43be32e2e1eaf; _uetvid=a3ed68700d3a11eda61a59ca87e59f69; tatari-cookie-test=52671323; tatari-session-cookie=c527cebe-7ee7-0e74-8c0b-d8cced1c3419; t-ip=1',\n",
    "    'referer': 'https://seatgeek.com/',\n",
    "    'sec-ch-ua': '\".Not/A)Brand\";v=\"99\", \"Google Chrome\";v=\"103\", \"Chromium\";v=\"103\"',\n",
    "    'sec-ch-ua-mobile': '?0',\n",
    "    'sec-ch-ua-platform': '\"macOS\"',\n",
    "    'sec-fetch-dest': 'empty',\n",
    "    'sec-fetch-mode': 'cors',\n",
    "    'sec-fetch-site': 'same-origin',\n",
    "    'sixpack-client-id': 'c0180531-3cf2-4506-8b93-05549e06dbe4',\n",
    "    'user-agent': 'Mozilla/5.0 (Macintosh; Intel Mac OS X 10_15_7) AppleWebKit/537.36 (KHTML, like Gecko) Chrome/103.0.0.0 Safari/537.36',\n",
    "}\n",
    "\n",
    "response = requests.get('https://seatgeek.com/api/autocomplete?geoip=true&limit=3&uuid=5a2a0515-1823-e064-7d50-88bdaf7786a3&q=kevin+hart&types\\\\[\\\\]=event&types\\\\[\\\\]=performer&types\\\\[\\\\]=venue&types\\\\[\\\\]=venue_pass&types\\\\[\\\\]=performer_pass&types\\\\[\\\\]=taxonomy&client_id=MTY2MnwxMzgzMzIwMTU4', cookies=cookies, headers=headers)\n",
    "data = response.json()\n",
    "data.keys()\n",
    "pd.DataFrame(data['top_results'])['data'][0]"
   ]
  }
 ],
 "metadata": {
  "kernelspec": {
   "display_name": "Python 3.9.7 ('.venv': venv)",
   "language": "python",
   "name": "python3"
  },
  "language_info": {
   "codemirror_mode": {
    "name": "ipython",
    "version": 3
   },
   "file_extension": ".py",
   "mimetype": "text/x-python",
   "name": "python",
   "nbconvert_exporter": "python",
   "pygments_lexer": "ipython3",
   "version": "3.9.7"
  },
  "orig_nbformat": 4,
  "vscode": {
   "interpreter": {
    "hash": "9328e0e8d23a4757e6f785c590159c3b690483efb76079ca9efc789952c241e9"
   }
  }
 },
 "nbformat": 4,
 "nbformat_minor": 2
}
